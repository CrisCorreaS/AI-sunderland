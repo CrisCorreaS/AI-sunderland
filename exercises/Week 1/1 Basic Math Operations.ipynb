{
 "cells": [
  {
   "cell_type": "markdown",
   "metadata": {},
   "source": [
    "# Basic Math Operations\n",
    "**Cristina Correa - 1819211867**"
   ]
  },
  {
   "cell_type": "markdown",
   "metadata": {},
   "source": [
    "1. Write a program to add two numbers and print the result.\n"
   ]
  },
  {
   "cell_type": "code",
   "execution_count": 2,
   "metadata": {},
   "outputs": [
    {
     "name": "stdout",
     "output_type": "stream",
     "text": [
      "55 + 0 = 55\n"
     ]
    }
   ],
   "source": [
    "num1_1 = int(input(\"Please, write the first number\"))\n",
    "num1_2 = int(input(\"Please, write the second number\"))\n",
    "\n",
    "result1 = num1_1 + num1_2\n",
    "\n",
    "print(f\"{num1_1} + {num1_2} = {result1}\")"
   ]
  },
  {
   "cell_type": "markdown",
   "metadata": {},
   "source": [
    "---\n",
    "2. Write a program to subtract two numbers and print the result."
   ]
  },
  {
   "cell_type": "code",
   "execution_count": 3,
   "metadata": {},
   "outputs": [
    {
     "name": "stdout",
     "output_type": "stream",
     "text": [
      "20 - 9 = 11\n"
     ]
    }
   ],
   "source": [
    "num2_1 = int(input(\"Please, write the first number\"))\n",
    "num2_2 = int(input(\"Please, write the second number\"))\n",
    "\n",
    "result2 = num2_1 - num2_2\n",
    "\n",
    "print(f\"{num2_1} - {num2_2} = {result2}\")"
   ]
  },
  {
   "cell_type": "markdown",
   "metadata": {},
   "source": [
    "---\n",
    "3. Write a program to multiply two numbers and print the result.\n"
   ]
  },
  {
   "cell_type": "code",
   "execution_count": 6,
   "metadata": {},
   "outputs": [
    {
     "name": "stdout",
     "output_type": "stream",
     "text": [
      "7 * 6 = 42\n"
     ]
    }
   ],
   "source": [
    "num3_1 = int(input(\"Please, write the first number\"))\n",
    "num3_2 = int(input(\"Please, write the second number\"))\n",
    "\n",
    "result3 = num3_1 * num3_2\n",
    "\n",
    "print(f\"{num3_1} * {num3_2} = {result3}\")"
   ]
  },
  {
   "cell_type": "markdown",
   "metadata": {},
   "source": [
    "----\n",
    "4. Write a program to divide two numbers and print the result.\n"
   ]
  },
  {
   "cell_type": "code",
   "execution_count": 7,
   "metadata": {},
   "outputs": [
    {
     "name": "stdout",
     "output_type": "stream",
     "text": [
      "We can't do 5 / 0\n"
     ]
    }
   ],
   "source": [
    "num4_1 = int(input(\"Please, write the first number\"))\n",
    "num4_2 = int(input(\"Please, write the second number\"))\n",
    "\n",
    "if num4_2 > 0:\n",
    "    result4 = num4_1 / num4_2\n",
    "    print(f\"{num4_1} / {num4_2} = {result4}\")\n",
    "else:\n",
    "    print(f\"We can't do {num4_1} / {num4_2}\")"
   ]
  },
  {
   "cell_type": "markdown",
   "metadata": {},
   "source": [
    "---\n",
    "5. Write a program to calculate the remainder of two numbers and print the result.\n"
   ]
  },
  {
   "cell_type": "code",
   "execution_count": 8,
   "metadata": {},
   "outputs": [
    {
     "name": "stdout",
     "output_type": "stream",
     "text": [
      "The module of 5 / 2 is 1\n"
     ]
    }
   ],
   "source": [
    "num5_1 = int(input(\"Please, write the first number\"))\n",
    "num5_2 = int(input(\"Please, write the second number\"))\n",
    "\n",
    "if num5_2 > 0:\n",
    "    module = num5_1 % num5_2\n",
    "    print(f\"The module of {num5_1} / {num5_2} is {module}\")\n",
    "else:\n",
    "    print(f\"We can't do {num5_1} / {num5_2}\")"
   ]
  },
  {
   "cell_type": "markdown",
   "metadata": {},
   "source": [
    "-----\n",
    "6. Write a program to calculate the power of a number and print the result"
   ]
  },
  {
   "cell_type": "code",
   "execution_count": 1,
   "metadata": {},
   "outputs": [
    {
     "name": "stdout",
     "output_type": "stream",
     "text": [
      "The power of 6 is 36\n"
     ]
    }
   ],
   "source": [
    "num6 = int(input('Please, write a number'))\n",
    "\n",
    "power_of_num = pow(num6, 2)\n",
    "\n",
    "print(f'The power of {num6} is {power_of_num}')"
   ]
  }
 ],
 "metadata": {
  "kernelspec": {
   "display_name": "Python 3",
   "language": "python",
   "name": "python3"
  },
  "language_info": {
   "codemirror_mode": {
    "name": "ipython",
    "version": 3
   },
   "file_extension": ".py",
   "mimetype": "text/x-python",
   "name": "python",
   "nbconvert_exporter": "python",
   "pygments_lexer": "ipython3",
   "version": "3.12.3"
  }
 },
 "nbformat": 4,
 "nbformat_minor": 2
}
