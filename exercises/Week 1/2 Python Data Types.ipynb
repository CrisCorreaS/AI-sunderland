{
 "cells": [
  {
   "cell_type": "markdown",
   "metadata": {},
   "source": [
    "# Python Data Types\n",
    "**Cristina Correa - 1819211867**"
   ]
  },
  {
   "cell_type": "markdown",
   "metadata": {},
   "source": [
    "1. Create a list of 5 different fruits and print the list.\n"
   ]
  },
  {
   "cell_type": "code",
   "execution_count": 1,
   "metadata": {},
   "outputs": [
    {
     "name": "stdout",
     "output_type": "stream",
     "text": [
      "['apple', 'pear', 'dates', 'lemon', 'apricot']\n"
     ]
    }
   ],
   "source": [
    "fruit_list = [\"apple\", \"pear\", \"dates\", \"lemon\", \"apricot\"]\n",
    "\n",
    "print(fruit_list)"
   ]
  },
  {
   "cell_type": "markdown",
   "metadata": {},
   "source": [
    "---\n",
    "2. Create a tuple of 3 different animals and print the tuple."
   ]
  },
  {
   "cell_type": "code",
   "execution_count": 2,
   "metadata": {},
   "outputs": [
    {
     "name": "stdout",
     "output_type": "stream",
     "text": [
      "('dog', 'cat', 'fish')\n"
     ]
    }
   ],
   "source": [
    "animal_tuple = (\"dog\", \"cat\", \"fish\")\n",
    "\n",
    "print(animal_tuple)"
   ]
  },
  {
   "cell_type": "markdown",
   "metadata": {},
   "source": [
    "---\n",
    "3. Create a dictionary of 3 different key-value pairs where the keys are names of programming languages and the values are their release dates."
   ]
  },
  {
   "cell_type": "code",
   "execution_count": 5,
   "metadata": {},
   "outputs": [
    {
     "name": "stdout",
     "output_type": "stream",
     "text": [
      "{1991: 'Python', 1995: 'Java', 2016: 'Kotlin'}\n"
     ]
    }
   ],
   "source": [
    "languages_dictionary = {1991: \"Python\", 1995: \"Java\", 2016: \"Kotlin\"}\n",
    "\n",
    "print(languages_dictionary)"
   ]
  },
  {
   "cell_type": "markdown",
   "metadata": {},
   "source": [
    "----\n",
    "4. Create a set of 3 different colours and print the set."
   ]
  },
  {
   "cell_type": "code",
   "execution_count": 6,
   "metadata": {},
   "outputs": [
    {
     "name": "stdout",
     "output_type": "stream",
     "text": [
      "{'yellow', 'orange', 'red'}\n"
     ]
    }
   ],
   "source": [
    "colour_set = {\"red\", \"orange\", \"yellow\"}\n",
    "\n",
    "print(colour_set)"
   ]
  },
  {
   "cell_type": "markdown",
   "metadata": {},
   "source": [
    "---\n",
    "5. Create a string variable that contains the sentence \"Python is an easy-to-learn programming language.\""
   ]
  },
  {
   "cell_type": "code",
   "execution_count": 7,
   "metadata": {},
   "outputs": [
    {
     "name": "stdout",
     "output_type": "stream",
     "text": [
      "Python is an easy-to-learn programming language.\n"
     ]
    }
   ],
   "source": [
    "sentence = \"Python is an easy-to-learn programming language.\"\n",
    "\n",
    "print(sentence)"
   ]
  }
 ],
 "metadata": {
  "kernelspec": {
   "display_name": "Python 3",
   "language": "python",
   "name": "python3"
  },
  "language_info": {
   "codemirror_mode": {
    "name": "ipython",
    "version": 3
   },
   "file_extension": ".py",
   "mimetype": "text/x-python",
   "name": "python",
   "nbconvert_exporter": "python",
   "pygments_lexer": "ipython3",
   "version": "3.12.3"
  }
 },
 "nbformat": 4,
 "nbformat_minor": 2
}
