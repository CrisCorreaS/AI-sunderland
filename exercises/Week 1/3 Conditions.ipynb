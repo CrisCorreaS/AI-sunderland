{
 "cells": [
  {
   "cell_type": "markdown",
   "metadata": {},
   "source": [
    "# Conditions\n",
    "**Cristina Correa - 1819211867**"
   ]
  },
  {
   "cell_type": "markdown",
   "metadata": {},
   "source": [
    "1. Write a program that takes a user input of a number and checks if it is positive, negative or\n",
    "zero. Print the result.\n"
   ]
  },
  {
   "cell_type": "code",
   "execution_count": 6,
   "metadata": {},
   "outputs": [
    {
     "name": "stdout",
     "output_type": "stream",
     "text": [
      "0 it's zero\n"
     ]
    }
   ],
   "source": [
    "number = int(input(\"Please write a number\"))\n",
    "\n",
    "if number > 0:\n",
    "    print(f\"{number} it's a positive number\")\n",
    "elif number < 0:\n",
    "    print(f\"{number} it's a negative number\")\n",
    "else:\n",
    "    print(f\"{number} it's zero\")"
   ]
  },
  {
   "cell_type": "markdown",
   "metadata": {},
   "source": [
    "---\n",
    "2. Write a program that takes a user input of a string and checks if it starts with a vowel or\n",
    "consonant. Print the result."
   ]
  },
  {
   "cell_type": "code",
   "execution_count": 5,
   "metadata": {},
   "outputs": [
    {
     "name": "stdout",
     "output_type": "stream",
     "text": [
      "HoLa starts with a consonant\n"
     ]
    }
   ],
   "source": [
    "string_input = input(\"Please write a string\")\n",
    "starts_with_consonant = True\n",
    "\n",
    "string_lower = string_input.lower()\n",
    "\n",
    "vowels = [\"a\", \"e\", \"i\", \"o\", \"u\"]\n",
    "\n",
    "for vowel in vowels:\n",
    "    if string_lower[0] == vowel:\n",
    "        starts_with_consonant = False\n",
    "        print(f\"{string_input} starts with a vowel\")\n",
    "\n",
    "if(starts_with_consonant):\n",
    "    print(f\"{string_input} starts with a consonant\")"
   ]
  },
  {
   "cell_type": "markdown",
   "metadata": {},
   "source": [
    "---\n",
    "3. Write a program that takes a user input of two numbers and checks if they are equal or not. Print the result."
   ]
  },
  {
   "cell_type": "code",
   "execution_count": 8,
   "metadata": {},
   "outputs": [
    {
     "name": "stdout",
     "output_type": "stream",
     "text": [
      "5 it's equal to 5\n"
     ]
    }
   ],
   "source": [
    "number1 = int(input(\"Please write the first number\"))\n",
    "number2 = int(input(\"Please write the second number\"))\n",
    "\n",
    "if number1 == number2:\n",
    "    print(f\"{number1} it's equal to {number2}\")\n",
    "else:\n",
    "    print(f\"{number1} it's different to {number2}\")"
   ]
  }
 ],
 "metadata": {
  "kernelspec": {
   "display_name": "Python 3",
   "language": "python",
   "name": "python3"
  },
  "language_info": {
   "codemirror_mode": {
    "name": "ipython",
    "version": 3
   },
   "file_extension": ".py",
   "mimetype": "text/x-python",
   "name": "python",
   "nbconvert_exporter": "python",
   "pygments_lexer": "ipython3",
   "version": "3.12.3"
  }
 },
 "nbformat": 4,
 "nbformat_minor": 2
}
