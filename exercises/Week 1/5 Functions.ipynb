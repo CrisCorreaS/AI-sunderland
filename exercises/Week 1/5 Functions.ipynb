{
 "cells": [
  {
   "cell_type": "markdown",
   "metadata": {},
   "source": [
    "# Functions\n",
    "**Cristina Correa - 1819211867**"
   ]
  },
  {
   "cell_type": "markdown",
   "metadata": {},
   "source": [
    "1. Write a function that takes two numbers as parameters and returns their sum\n",
    "\n"
   ]
  },
  {
   "cell_type": "code",
   "execution_count": 1,
   "metadata": {},
   "outputs": [
    {
     "name": "stdout",
     "output_type": "stream",
     "text": [
      "24\n"
     ]
    }
   ],
   "source": [
    "def sum(a, b):\n",
    "    return a + b\n",
    "\n",
    "print(sum(2, 22))"
   ]
  },
  {
   "cell_type": "markdown",
   "metadata": {},
   "source": [
    "---\n",
    "2. Write a function that takes a list of numbers as a parameter and returns the largest\n",
    "number in the list\n"
   ]
  },
  {
   "cell_type": "code",
   "execution_count": 7,
   "metadata": {},
   "outputs": [
    {
     "name": "stdout",
     "output_type": "stream",
     "text": [
      "The largest number in [914, 251, 49, 123456, 78236, 2, 9876] is 123456\n"
     ]
    }
   ],
   "source": [
    "def find_largest_number(number_list):\n",
    "    largest = number_list[0]\n",
    "    for num in number_list:\n",
    "        if num > largest:\n",
    "            largest = num\n",
    "    return largest\n",
    "\n",
    "\n",
    "random_list = [914, 251, 49, 123456, 78236, 2, 9876]\n",
    "print(f\"The largest number in {random_list} is {find_largest_number(random_list)}\")"
   ]
  },
  {
   "cell_type": "markdown",
   "metadata": {},
   "source": [
    "---\n",
    "3. Write a function that takes a string as a parameter and returns the number of vowels\n",
    "in the string."
   ]
  },
  {
   "cell_type": "code",
   "execution_count": 15,
   "metadata": {},
   "outputs": [
    {
     "name": "stdout",
     "output_type": "stream",
     "text": [
      "Americana has 5 vowels\n"
     ]
    }
   ],
   "source": [
    "def count_text_vowels(text):\n",
    "    lower_text = text.lower()\n",
    "    count = 0\n",
    "    vowels = \"aeiou\"\n",
    "\n",
    "    for char in lower_text:\n",
    "        if char in vowels:\n",
    "            count += 1\n",
    "\n",
    "    return count\n",
    "\n",
    "\n",
    "word = input(\"Please, write a word\")\n",
    "\n",
    "print(f\"{word} has {count_text_vowels(word)} vowels\")"
   ]
  }
 ],
 "metadata": {
  "kernelspec": {
   "display_name": "Python 3",
   "language": "python",
   "name": "python3"
  },
  "language_info": {
   "codemirror_mode": {
    "name": "ipython",
    "version": 3
   },
   "file_extension": ".py",
   "mimetype": "text/x-python",
   "name": "python",
   "nbconvert_exporter": "python",
   "pygments_lexer": "ipython3",
   "version": "3.12.4"
  }
 },
 "nbformat": 4,
 "nbformat_minor": 2
}
