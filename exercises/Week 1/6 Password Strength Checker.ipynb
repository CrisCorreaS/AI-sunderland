{
 "cells": [
  {
   "cell_type": "markdown",
   "metadata": {},
   "source": [
    "# 6 Password Strength Checker\n",
    "**Cristina Correa - 1819211867**"
   ]
  },
  {
   "cell_type": "markdown",
   "metadata": {},
   "source": [
    "In this exercise, participants will create a program that checks the strength of a\n",
    "password based on certain criteria. Write a Python program that checks the strength\n",
    "of a password based on the following criteria:\n",
    "1. The password must contain at least 8 characters.\n",
    "2. The password must contain at least one uppercase letter.\n",
    "3. The password must contain at least one lowercase letter.\n",
    "4. The password must contain at least one special character (e.g. @, #, $,\n",
    "%, etc.).\n",
    "\n",
    "If the password meets all the above criteria, print \"Password is strong\". If the\n",
    "password fails to meet any of the above criteria, print a message indicating which\n",
    "criteria the password failed to meet."
   ]
  },
  {
   "cell_type": "code",
   "execution_count": 30,
   "metadata": {},
   "outputs": [
    {
     "name": "stdout",
     "output_type": "stream",
     "text": [
      "Password must contain at least one special character and one uppercase letter.\n"
     ]
    }
   ],
   "source": [
    "def length_check(password):\n",
    "    if len(password) > 8:\n",
    "        return True\n",
    "\n",
    "    return False\n",
    "\n",
    "\n",
    "def upper_case_check(password):\n",
    "    for char in password:\n",
    "        if char.isupper():\n",
    "            return True\n",
    "\n",
    "    return False\n",
    "\n",
    "\n",
    "def lower_case_check(password):\n",
    "    for char in password:\n",
    "        if char.islower():\n",
    "            return True\n",
    "\n",
    "    return False\n",
    "\n",
    "\n",
    "def special_character_check(password):\n",
    "    special_character = \"@#$¬*/+-!·%&/()=¿^*¨_:;,.-+'\"\n",
    "\n",
    "    for char in password:\n",
    "        if char in special_character:\n",
    "            return True\n",
    "\n",
    "    return False\n",
    "\n",
    "\n",
    "user_password = input(\"Please, write your password to check its strength\")\n",
    "error = \"\"\n",
    "\n",
    "if upper_case_check(user_password) == False:\n",
    "    error = \"one uppercase letter\"\n",
    "\n",
    "if lower_case_check(user_password) == False:\n",
    "    if error is None or error == \"\":\n",
    "        error = \"one lowercase letter\"\n",
    "    else:\n",
    "        temp = error\n",
    "        error = \"one uppercase letter, \" + temp\n",
    "\n",
    "if special_character_check(user_password) == False:\n",
    "    if error is None or error == \"\":\n",
    "        error = \"one special character\"\n",
    "    else:\n",
    "        temp = error\n",
    "        error = \"one special character, \" + temp\n",
    "\n",
    "if (\n",
    "    len(user_password) > 8\n",
    "    and upper_case_check(user_password)\n",
    "    and lower_case_check(user_password)\n",
    "    and special_character_check(user_password)\n",
    "):\n",
    "    print(\"Password is strong\")\n",
    "\n",
    "if len(user_password) > 8 == False:\n",
    "    if error is None or error == \"\":\n",
    "        error = \"Password must be at least 8 characters long\"\n",
    "    else:\n",
    "        temp = error\n",
    "        error = (\n",
    "            \"Password must contain at least \" + temp + \", be at least 8 characters long\"\n",
    "        )\n",
    "\n",
    "if error != \"\":\n",
    "    error_parts = error.rsplit(\",\", 1)\n",
    "    if len(error_parts) > 1:\n",
    "        error = error_parts[0] + \" and\" + error_parts[1]\n",
    "\n",
    "    if error[0] == \"P\":\n",
    "        print(error + \".\")\n",
    "    else:\n",
    "        print(\"Password must contain at least \" + error + \".\")"
   ]
  }
 ],
 "metadata": {
  "kernelspec": {
   "display_name": "Python 3",
   "language": "python",
   "name": "python3"
  },
  "language_info": {
   "codemirror_mode": {
    "name": "ipython",
    "version": 3
   },
   "file_extension": ".py",
   "mimetype": "text/x-python",
   "name": "python",
   "nbconvert_exporter": "python",
   "pygments_lexer": "ipython3",
   "version": "3.12.4"
  }
 },
 "nbformat": 4,
 "nbformat_minor": 2
}
