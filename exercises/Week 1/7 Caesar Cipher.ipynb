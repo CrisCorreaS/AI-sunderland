{
 "cells": [
  {
   "cell_type": "markdown",
   "metadata": {},
   "source": [
    "# 7 Caesar Cipher\n",
    "**Cristina Correa - 1819211867**"
   ]
  },
  {
   "cell_type": "markdown",
   "metadata": {},
   "source": [
    "In this exercise, participants will create a program that encrypts and decrypts\n",
    "messages using the Caesar cipher.\n",
    "\n",
    "The Caesar cipher is a simple encryption technique that involves shifting each letter\n",
    "of the message by a certain number of positions down the alphabet. For example, if\n",
    "we shift the letter \"A\" by 3 positions, we get the letter \"D\". Similarly, if we shift the\n",
    "letter \"B\" by 2 positions, we get the letter \"D\".\n",
    "\n",
    "Write a Python program that takes a message and a key as inputs and\n",
    "encrypts/decrypts the message using the Caesar cipher. The key is the number of\n",
    "positions each letter should be shifted down the alphabet.\n",
    "\n",
    "Hints:\n",
    "- Use the ord() function to get the ASCII value of a character.\n",
    "- Use the chr() function to get the character corresponding to an ASCII\n",
    "value.\n",
    "- Use the modulo operator (%) to wrap around the alphabet when\n",
    "shifting letters."
   ]
  },
  {
   "cell_type": "code",
   "execution_count": 3,
   "metadata": {},
   "outputs": [
    {
     "name": "stdout",
     "output_type": "stream",
     "text": [
      "Encrypted message: KHOOR\n",
      "Decrypted message: HELLO\n"
     ]
    }
   ],
   "source": [
    "def caesar_cipher(message, key, mode):\n",
    "    result = \"\"\n",
    "\n",
    "    for char in message:\n",
    "        if char.isalpha():  \n",
    "            if mode == 'encrypt': \n",
    "                movement = key   \n",
    "            else: \n",
    "                movement = -key\n",
    "\n",
    "            if char.isupper():\n",
    "                ascii_value = ord('A')  \n",
    "            else:\n",
    "                ascii_value = ord(\"a\")\n",
    "\n",
    "            char_position = ord(char) - ascii_value\n",
    "            \n",
    "            new_char = chr(((char_position + movement) % 26) + ascii_value)\n",
    "\n",
    "            result += new_char\n",
    "        else:\n",
    "            result += char  \n",
    "\n",
    "    return result\n",
    "\n",
    "\n",
    "encrypted_message = caesar_cipher(\"HELLO\", 3, \"encrypt\")\n",
    "print(f\"Encrypted message: {encrypted_message}\")\n",
    "\n",
    "decrypted_message = caesar_cipher(encrypted_message, 3, \"decrypt\")\n",
    "print(f\"Decrypted message: {decrypted_message}\")"
   ]
  }
 ],
 "metadata": {
  "kernelspec": {
   "display_name": "Python 3",
   "language": "python",
   "name": "python3"
  },
  "language_info": {
   "codemirror_mode": {
    "name": "ipython",
    "version": 3
   },
   "file_extension": ".py",
   "mimetype": "text/x-python",
   "name": "python",
   "nbconvert_exporter": "python",
   "pygments_lexer": "ipython3",
   "version": "3.12.4"
  }
 },
 "nbformat": 4,
 "nbformat_minor": 2
}
