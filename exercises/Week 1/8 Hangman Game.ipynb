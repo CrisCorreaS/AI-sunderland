{
 "cells": [
  {
   "cell_type": "markdown",
   "metadata": {},
   "source": [
    "# 8 Hangman Game\n",
    "**Cristina Correa - 1819211867**"
   ]
  },
  {
   "cell_type": "markdown",
   "metadata": {},
   "source": [
    "Write a Python program that plays the game of Hangman. The program should\n",
    "randomly select a word from a list of words, and the user should have to guess the\n",
    "letters in the word one by one. The user is allowed a certain number of incorrect\n",
    "guesses before the game is over\n",
    "\n",
    "Hints:\n",
    "- Use the random module to randomly select a word from the word list.\n",
    "- Use a loop to iterate over the word and check if the guessed letter is present in the word.\n",
    "- Use a counter to keep track of the number of incorrect guesses."
   ]
  },
  {
   "cell_type": "code",
   "execution_count": 7,
   "metadata": {},
   "outputs": [
    {
     "name": "stdout",
     "output_type": "stream",
     "text": [
      "Let's play the Hangman Game\n",
      "The word you have to guess has 6 letters\n",
      "_ _ _ _ _ _\n",
      "Good job! 'y' is in the word.\n",
      "_ y _ _ _ _\n",
      "You've already guessed 'y'. Try again\n",
      "_ y _ _ _ _\n",
      "Good job! 'p' is in the word.\n",
      "p y _ _ _ _\n",
      "Good job! 't' is in the word.\n",
      "p y t _ _ _\n",
      "Good job! 'h' is in the word.\n",
      "p y t h _ _\n",
      "Good job! 'o' is in the word.\n",
      "p y t h o _\n",
      "Sorry, 'c' is not in the word.\n",
      "Incorrect guesses left: 5\n",
      "p y t h o _\n",
      "Good job! 'n' is in the word.\n",
      "Congratulations, you guessed the word 'python'!\n"
     ]
    }
   ],
   "source": [
    "import random\n",
    "\n",
    "\n",
    "def show_progress(word, correct_guesses):\n",
    "    result = []\n",
    "\n",
    "    for letter in word:\n",
    "        if letter in correct_guesses:\n",
    "            result.append(letter)\n",
    "        else:\n",
    "            result.append(\"_\")\n",
    "\n",
    "    return \" \".join(result)\n",
    "\n",
    "\n",
    "def hangman(words, max_guess):\n",
    "    word = random.choice(words)\n",
    "    word_length = len(word)\n",
    "    correct_guess = []\n",
    "    incorrect_guess = []\n",
    "\n",
    "    print(\"Let's play the Hangman Game\")\n",
    "    print(f\"The word you have to guess has {word_length} letters\")\n",
    "\n",
    "    while len(incorrect_guess) < max_guess:\n",
    "        print(show_progress(word, correct_guess))\n",
    "        guess = input(\"Guess a letter: \").lower()\n",
    "\n",
    "        if len(guess) != 1:\n",
    "            print(\"Invalid input. Please guess a single letter\")\n",
    "            continue\n",
    "\n",
    "        if guess in correct_guess or guess in incorrect_guess:\n",
    "            print(f\"You've already guessed '{guess}'. Try again\")\n",
    "            continue\n",
    "\n",
    "        if guess in word:\n",
    "            print(f\"Good job! '{guess}' is in the word.\")\n",
    "            correct_guess.append(guess)\n",
    "\n",
    "            guessed_all_letters = True\n",
    "            \n",
    "            for letter in word:\n",
    "                if letter not in correct_guess:  \n",
    "                    guessed_all_letters = False    \n",
    "                    break\n",
    "                \n",
    "            if guessed_all_letters:\n",
    "                print(f\"Congratulations, you guessed the word '{word}'!\")\n",
    "                break\n",
    "            \n",
    "        else:\n",
    "            print(f\"Sorry, '{guess}' is not in the word.\")\n",
    "            incorrect_guess.append(guess)\n",
    "            print(f\"Incorrect guesses left: {max_guess - len(incorrect_guess)}\")\n",
    "\n",
    "    if len(incorrect_guess) == max_guess:\n",
    "        print(f\"Game over! The word was '{word}'.\")\n",
    "\n",
    "\n",
    "word_list = [\"python\", \"java\", \"javascript\", \"go\", \"rust\"]\n",
    "max_incorrect_guesses = 6\n",
    "\n",
    "hangman(word_list, max_incorrect_guesses)"
   ]
  }
 ],
 "metadata": {
  "kernelspec": {
   "display_name": "Python 3",
   "language": "python",
   "name": "python3"
  },
  "language_info": {
   "codemirror_mode": {
    "name": "ipython",
    "version": 3
   },
   "file_extension": ".py",
   "mimetype": "text/x-python",
   "name": "python",
   "nbconvert_exporter": "python",
   "pygments_lexer": "ipython3",
   "version": "3.12.4"
  }
 },
 "nbformat": 4,
 "nbformat_minor": 2
}
