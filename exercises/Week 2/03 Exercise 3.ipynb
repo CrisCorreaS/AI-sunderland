{
 "cells": [
  {
   "cell_type": "markdown",
   "metadata": {},
   "source": [
    "# Exercise 3\n",
    "**Cristina Correa - 1819211867**\n",
    "\n",
    "Use the time library to calculate how long it would take to solve\n",
    "the problem using three different starting points and ending points\n",
    "\n",
    "- Hint: you can refer to this tutorial to get you started: https://realpython.com/python-time-module/"
   ]
  },
  {
   "cell_type": "code",
   "execution_count": 29,
   "metadata": {},
   "outputs": [
    {
     "name": "stdout",
     "output_type": "stream",
     "text": [
      "Current node: A, Path: ['A']\n",
      "Current node: B, Path: ['A', 'B']\n",
      "Current node: E, Path: ['A', 'E']\n",
      "Current node: C, Path: ['A', 'B', 'C']\n",
      "Current node: D, Path: ['A', 'B', 'D']\n",
      "Current node: F, Path: ['A', 'E', 'F']\n",
      "Path found: ['A', 'E', 'F']\n",
      "This problem took 0.00038330000006681075 seconds\n"
     ]
    }
   ],
   "source": [
    "# First -> From \"A\" to \"F\"\n",
    "\n",
    "import time\n",
    "\n",
    "from time import perf_counter\n",
    "from collections import deque\n",
    "\n",
    "graph = {\n",
    "    \"A\": [\"B\", \"E\"],\n",
    "    \"B\": [\"C\", \"D\"],\n",
    "    \"C\": [\"C\"],\n",
    "    \"D\": [\"D\"],\n",
    "    \"E\": [\"F\", \"G\"],\n",
    "    \"F\": [\"F\"],\n",
    "    \"G\": [\"G\"],\n",
    "}\n",
    "\n",
    "\n",
    "def bfs(graph, start, goal):\n",
    "    visited = set()\n",
    "    queue = deque([(start, [])])\n",
    "\n",
    "    while queue:\n",
    "        node, path = queue.popleft()\n",
    "        print(f\"Current node: {node}, Path: {path + [node]}\")\n",
    "\n",
    "        if node == goal:\n",
    "            return path + [node]\n",
    "\n",
    "        if node not in visited:\n",
    "            visited.add(node)\n",
    "\n",
    "            for neighbor in graph[node]:                \n",
    "                if neighbor not in visited:\n",
    "                    queue.append((neighbor, path + [node]))\n",
    "\n",
    "    print(\"Goal not found\")\n",
    "    return None\n",
    "\n",
    "\n",
    "start_node = \"A\"\n",
    "goal_node = \"F\"\n",
    "\n",
    "start = perf_counter()\n",
    "result = bfs(graph, start_node, goal_node)\n",
    "end = perf_counter()\n",
    "\n",
    "execution_time = (end - start)\n",
    "\n",
    "if result:\n",
    "    print(\"Path found:\", result)\n",
    "else:\n",
    "    print(\"No path found.\")\n",
    "    \n",
    "print(f\"This problem took {execution_time} seconds\")"
   ]
  },
  {
   "cell_type": "code",
   "execution_count": 31,
   "metadata": {},
   "outputs": [
    {
     "name": "stdout",
     "output_type": "stream",
     "text": [
      "Current node: B, Path: ['B']\n",
      "Current node: C, Path: ['B', 'C']\n",
      "Path found: ['B', 'C']\n",
      "This problem took 0.00018430000000080327 seconds\n"
     ]
    }
   ],
   "source": [
    "# Second -> From \"B\" to \"C\"\n",
    "\n",
    "start_node = \"B\"\n",
    "goal_node = \"C\"\n",
    "\n",
    "start = perf_counter()\n",
    "result = bfs(graph, start_node, goal_node)\n",
    "end = perf_counter()\n",
    "\n",
    "execution_time = end - start\n",
    "\n",
    "if result:\n",
    "    print(\"Path found:\", result)\n",
    "else:\n",
    "    print(\"No path found.\")\n",
    "\n",
    "print(f\"This problem took {execution_time} seconds\")"
   ]
  },
  {
   "cell_type": "code",
   "execution_count": 38,
   "metadata": {},
   "outputs": [
    {
     "name": "stdout",
     "output_type": "stream",
     "text": [
      "Current node: E, Path: ['E']\n",
      "Current node: F, Path: ['E', 'F']\n",
      "Current node: G, Path: ['E', 'G']\n",
      "Goal not found\n",
      "No path found.\n",
      "This problem took 0.0007322999999814783 seconds\n"
     ]
    }
   ],
   "source": [
    "# Third -> From \"E\" to \"B\"\n",
    "\n",
    "start_node = \"E\"\n",
    "goal_node = \"C\"\n",
    "\n",
    "start = perf_counter()\n",
    "result = bfs(graph, start_node, goal_node)\n",
    "end = perf_counter()\n",
    "\n",
    "execution_time = end - start\n",
    "\n",
    "if result:\n",
    "    print(\"Path found:\", result)\n",
    "else:\n",
    "    print(\"No path found.\")\n",
    "\n",
    "print(f\"This problem took {execution_time} seconds\")"
   ]
  }
 ],
 "metadata": {
  "kernelspec": {
   "display_name": "Python 3",
   "language": "python",
   "name": "python3"
  },
  "language_info": {
   "codemirror_mode": {
    "name": "ipython",
    "version": 3
   },
   "file_extension": ".py",
   "mimetype": "text/x-python",
   "name": "python",
   "nbconvert_exporter": "python",
   "pygments_lexer": "ipython3",
   "version": "3.12.4"
  }
 },
 "nbformat": 4,
 "nbformat_minor": 2
}
