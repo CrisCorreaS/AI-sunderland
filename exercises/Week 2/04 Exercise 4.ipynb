{
 "cells": [
  {
   "cell_type": "markdown",
   "metadata": {},
   "source": [
    "# Exercise 4\n",
    "**Cristina Correa - 1819211867**\n",
    "\n",
    "Change the script to mode the following graph:\n",
    "\n",
    "```\n",
    "D ————————— G\n",
    "|           |\n",
    "B ————— E   |\n",
    "|       |   |\n",
    "A — C — F — H\n",
    "```"
   ]
  },
  {
   "cell_type": "code",
   "execution_count": 2,
   "metadata": {},
   "outputs": [
    {
     "name": "stdout",
     "output_type": "stream",
     "text": [
      "Current node: B, Path: ['B']\n",
      "Current node: A, Path: ['B', 'A']\n",
      "Current node: D, Path: ['B', 'D']\n",
      "Current node: E, Path: ['B', 'E']\n",
      "Current node: C, Path: ['B', 'A', 'C']\n",
      "Current node: G, Path: ['B', 'D', 'G']\n",
      "Current node: F, Path: ['B', 'E', 'F']\n",
      "Current node: F, Path: ['B', 'A', 'C', 'F']\n",
      "Current node: H, Path: ['B', 'D', 'G', 'H']\n",
      "Path found: ['B', 'D', 'G', 'H']\n"
     ]
    }
   ],
   "source": [
    "from collections import deque\n",
    "\n",
    "graph = {\n",
    "    \"A\": [\"B\", \"C\"],\n",
    "    \"B\": [\"A\", \"D\", \"E\"],\n",
    "    \"C\": [\"A\", \"F\"],\n",
    "    \"D\": [\"B\", \"G\"],\n",
    "    \"E\": [\"B\", \"F\"],\n",
    "    \"F\": [\"C\", \"E\", \"H\"],\n",
    "    \"G\": [\"D\", \"H\"],\n",
    "    \"H\": [\"F\", \"G\"]\n",
    "}\n",
    "\n",
    "\n",
    "def bfs(graph, start, goal):\n",
    "    visited = set()\n",
    "    queue = deque([(start, [])])\n",
    "\n",
    "    while queue:\n",
    "        node, path = queue.popleft()\n",
    "        print(f\"Current node: {node}, Path: {path + [node]}\")\n",
    "\n",
    "        if node == goal:\n",
    "            return path + [node]\n",
    "\n",
    "        if node not in visited:\n",
    "            visited.add(node)\n",
    "\n",
    "            for neighbor in graph[node]:\n",
    "                if neighbor not in visited:\n",
    "                    queue.append((neighbor, path + [node]))\n",
    "\n",
    "    print(\"Goal not found\")\n",
    "    return None\n",
    "\n",
    "\n",
    "start_node = \"B\"\n",
    "goal_node = \"H\"\n",
    "result = bfs(graph, start_node, goal_node)\n",
    "\n",
    "if result:\n",
    "    print(\"Path found:\", result)\n",
    "else:\n",
    "    print(\"No path found.\")"
   ]
  }
 ],
 "metadata": {
  "kernelspec": {
   "display_name": "Python 3",
   "language": "python",
   "name": "python3"
  },
  "language_info": {
   "codemirror_mode": {
    "name": "ipython",
    "version": 3
   },
   "file_extension": ".py",
   "mimetype": "text/x-python",
   "name": "python",
   "nbconvert_exporter": "python",
   "pygments_lexer": "ipython3",
   "version": "3.12.4"
  }
 },
 "nbformat": 4,
 "nbformat_minor": 2
}
