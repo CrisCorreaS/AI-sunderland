{
 "cells": [
  {
   "cell_type": "markdown",
   "metadata": {},
   "source": [
    "# Exercise 5\n",
    "**Cristina Correa - 1819211867**\n",
    "\n",
    "Update the script to find the solution to the problem and experiment with\n",
    "different starting points, e.g., start from A and end at H\n",
    "\n",
    "```\n",
    "D ————————— G\n",
    "|           |\n",
    "B ————— E   |\n",
    "|       |   |\n",
    "A — C — F — H\n",
    "```"
   ]
  },
  {
   "cell_type": "code",
   "execution_count": 1,
   "metadata": {},
   "outputs": [
    {
     "name": "stdout",
     "output_type": "stream",
     "text": [
      "Current node: A, Path: ['A']\n",
      "Current node: B, Path: ['A', 'B']\n",
      "Current node: C, Path: ['A', 'C']\n",
      "Current node: D, Path: ['A', 'B', 'D']\n",
      "Current node: E, Path: ['A', 'B', 'E']\n",
      "Current node: F, Path: ['A', 'C', 'F']\n",
      "Current node: G, Path: ['A', 'B', 'D', 'G']\n",
      "Current node: F, Path: ['A', 'B', 'E', 'F']\n",
      "Current node: H, Path: ['A', 'C', 'F', 'H']\n",
      "Path found: ['A', 'C', 'F', 'H']\n"
     ]
    }
   ],
   "source": [
    "# From \"A\" to \"H\"\n",
    "\n",
    "from collections import deque\n",
    "\n",
    "graph = {\n",
    "    \"A\": [\"B\", \"C\"],\n",
    "    \"B\": [\"A\", \"D\", \"E\"],\n",
    "    \"C\": [\"A\", \"F\"],\n",
    "    \"D\": [\"B\", \"G\"],\n",
    "    \"E\": [\"B\", \"F\"],\n",
    "    \"F\": [\"C\", \"E\", \"H\"],\n",
    "    \"G\": [\"D\", \"H\"],\n",
    "    \"H\": [\"F\", \"G\"]\n",
    "}\n",
    "\n",
    "\n",
    "def bfs(graph, start, goal):\n",
    "    visited = set()\n",
    "    queue = deque([(start, [])])\n",
    "\n",
    "    while queue:\n",
    "        node, path = queue.popleft()\n",
    "        print(f\"Current node: {node}, Path: {path + [node]}\")\n",
    "\n",
    "        if node == goal:\n",
    "            return path + [node]\n",
    "\n",
    "        if node not in visited:\n",
    "            visited.add(node)\n",
    "\n",
    "            for neighbor in graph[node]:\n",
    "                if neighbor not in visited:\n",
    "                    queue.append((neighbor, path + [node]))\n",
    "\n",
    "    print(\"Goal not found\")\n",
    "    return None\n",
    "\n",
    "\n",
    "start_node = \"A\"\n",
    "goal_node = \"H\"\n",
    "result = bfs(graph, start_node, goal_node)\n",
    "\n",
    "if result:\n",
    "    print(\"Path found:\", result)\n",
    "else:\n",
    "    print(\"No path found.\")"
   ]
  },
  {
   "cell_type": "code",
   "execution_count": 5,
   "metadata": {},
   "outputs": [
    {
     "name": "stdout",
     "output_type": "stream",
     "text": [
      "Current node: E, Path: ['E']\n",
      "Current node: B, Path: ['E', 'B']\n",
      "Current node: F, Path: ['E', 'F']\n",
      "Current node: A, Path: ['E', 'B', 'A']\n",
      "Current node: D, Path: ['E', 'B', 'D']\n",
      "Current node: C, Path: ['E', 'F', 'C']\n",
      "Current node: H, Path: ['E', 'F', 'H']\n",
      "Current node: C, Path: ['E', 'B', 'A', 'C']\n",
      "Current node: G, Path: ['E', 'B', 'D', 'G']\n",
      "Path found: ['E', 'B', 'D', 'G']\n"
     ]
    }
   ],
   "source": [
    "# From \"E\" to \"G\"\n",
    "\n",
    "start_node = \"E\"\n",
    "goal_node = \"G\"\n",
    "result = bfs(graph, start_node, goal_node)\n",
    "\n",
    "if result:\n",
    "    print(\"Path found:\", result)\n",
    "else:\n",
    "    print(\"No path found.\")"
   ]
  },
  {
   "cell_type": "code",
   "execution_count": 6,
   "metadata": {},
   "outputs": [
    {
     "name": "stdout",
     "output_type": "stream",
     "text": [
      "Current node: A, Path: ['A']\n",
      "Current node: B, Path: ['A', 'B']\n",
      "Current node: C, Path: ['A', 'C']\n",
      "Current node: D, Path: ['A', 'B', 'D']\n",
      "Current node: E, Path: ['A', 'B', 'E']\n",
      "Current node: F, Path: ['A', 'C', 'F']\n",
      "Current node: G, Path: ['A', 'B', 'D', 'G']\n",
      "Path found: ['A', 'B', 'D', 'G']\n"
     ]
    }
   ],
   "source": [
    "# From \"A\" to \"G\" -> I want to check if they choose the shortest path\n",
    "\n",
    "start_node = \"A\"\n",
    "goal_node = \"G\"\n",
    "result = bfs(graph, start_node, goal_node)\n",
    "\n",
    "if result:\n",
    "    print(\"Path found:\", result)\n",
    "else:\n",
    "    print(\"No path found.\")"
   ]
  },
  {
   "cell_type": "code",
   "execution_count": 7,
   "metadata": {},
   "outputs": [
    {
     "name": "stdout",
     "output_type": "stream",
     "text": [
      "Current node: F, Path: ['F']\n",
      "Current node: C, Path: ['F', 'C']\n",
      "Current node: E, Path: ['F', 'E']\n",
      "Current node: H, Path: ['F', 'H']\n",
      "Current node: A, Path: ['F', 'C', 'A']\n",
      "Current node: B, Path: ['F', 'E', 'B']\n",
      "Current node: G, Path: ['F', 'H', 'G']\n",
      "Current node: B, Path: ['F', 'C', 'A', 'B']\n",
      "Current node: D, Path: ['F', 'E', 'B', 'D']\n",
      "Current node: D, Path: ['F', 'H', 'G', 'D']\n",
      "Goal not found\n",
      "No path found.\n"
     ]
    }
   ],
   "source": [
    "# From \"F\" to \"Z\"\n",
    "\n",
    "start_node = \"F\"\n",
    "goal_node = \"Z\"\n",
    "result = bfs(graph, start_node, goal_node)\n",
    "\n",
    "if result:\n",
    "    print(\"Path found:\", result)\n",
    "else:\n",
    "    print(\"No path found.\")"
   ]
  }
 ],
 "metadata": {
  "kernelspec": {
   "display_name": "Python 3",
   "language": "python",
   "name": "python3"
  },
  "language_info": {
   "codemirror_mode": {
    "name": "ipython",
    "version": 3
   },
   "file_extension": ".py",
   "mimetype": "text/x-python",
   "name": "python",
   "nbconvert_exporter": "python",
   "pygments_lexer": "ipython3",
   "version": "3.12.4"
  }
 },
 "nbformat": 4,
 "nbformat_minor": 2
}
