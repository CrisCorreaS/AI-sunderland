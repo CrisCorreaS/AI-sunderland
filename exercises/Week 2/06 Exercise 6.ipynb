{
 "cells": [
  {
   "cell_type": "markdown",
   "metadata": {},
   "source": [
    "# Exercise 6\n",
    "**Cristina Correa - 1819211867**\n",
    "\n",
    "I followed the steps and tried some other code"
   ]
  },
  {
   "cell_type": "code",
   "execution_count": 3,
   "metadata": {},
   "outputs": [
    {
     "name": "stdout",
     "output_type": "stream",
     "text": [
      "Current node: A, Path: ['A']\n",
      "Current node: B, Path: ['A', 'B']\n",
      "Current node: C, Path: ['A', 'B', 'C']\n",
      "Current node: C, Path: ['A', 'B', 'C', 'C']\n",
      "Current node: D, Path: ['A', 'B', 'D']\n",
      "Current node: D, Path: ['A', 'B', 'D', 'D']\n",
      "Current node: E, Path: ['A', 'E']\n",
      "Current node: F, Path: ['A', 'E', 'F']\n",
      "Current node: F, Path: ['A', 'E', 'F', 'F']\n",
      "Current node: G, Path: ['A', 'E', 'G']\n",
      "Path found: ['A', 'E', 'G']\n"
     ]
    }
   ],
   "source": [
    "graph = {\n",
    "    \"A\": [\"B\", \"E\"],\n",
    "    \"B\": [\"C\", \"D\"],\n",
    "    \"C\": [\"C\"],\n",
    "    \"D\": [\"D\"],\n",
    "    \"E\": [\"F\", \"G\"],\n",
    "    \"F\": [\"F\"],\n",
    "    \"G\": [\"G\"],\n",
    "}\n",
    "\n",
    "\n",
    "def dfs(graph, start, goal):\n",
    "    visited = []\n",
    "    stack = [(start, [])]\n",
    "\n",
    "    while stack:\n",
    "        node, path = stack.pop()\n",
    "        print(f\"Current node: {node}, Path: {path + [node]}\")\n",
    "\n",
    "        if node == goal:\n",
    "            return path + [node]\n",
    "\n",
    "        if node not in visited:\n",
    "            visited.append(node)\n",
    "\n",
    "            for neighbor in reversed(graph[node]):\n",
    "                stack.append((neighbor, path + [node]))\n",
    "\n",
    "    print(\"Goal not found\")\n",
    "    return None\n",
    "\n",
    "\n",
    "start_node = \"A\"\n",
    "goal_node = \"G\"\n",
    "result = dfs(graph, start_node, goal_node)\n",
    "\n",
    "if result:\n",
    "    print(\"Path found:\", result)\n",
    "else:\n",
    "    print(\"No path found.\")"
   ]
  }
 ],
 "metadata": {
  "kernelspec": {
   "display_name": "Python 3",
   "language": "python",
   "name": "python3"
  },
  "language_info": {
   "codemirror_mode": {
    "name": "ipython",
    "version": 3
   },
   "file_extension": ".py",
   "mimetype": "text/x-python",
   "name": "python",
   "nbconvert_exporter": "python",
   "pygments_lexer": "ipython3",
   "version": "3.12.4"
  }
 },
 "nbformat": 4,
 "nbformat_minor": 2
}
