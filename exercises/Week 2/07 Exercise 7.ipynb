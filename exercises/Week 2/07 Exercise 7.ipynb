{
 "cells": [
  {
   "cell_type": "markdown",
   "metadata": {},
   "source": [
    "# Exercise 7\n",
    "**Cristina Correa - 1819211867**\n",
    "\n",
    "Update the graph to use the problem defined in Figure 2.\n",
    "\n",
    "```\n",
    "D ————————— G\n",
    "|           |\n",
    "B ————— E   |\n",
    "|       |   |\n",
    "A — C — F — H\n",
    "```"
   ]
  },
  {
   "cell_type": "code",
   "execution_count": 2,
   "metadata": {},
   "outputs": [
    {
     "name": "stdout",
     "output_type": "stream",
     "text": [
      "Current node: A, Path: ['A']\n",
      "Current node: B, Path: ['A', 'B']\n",
      "Current node: A, Path: ['A', 'B', 'A']\n",
      "Current node: D, Path: ['A', 'B', 'D']\n",
      "Current node: B, Path: ['A', 'B', 'D', 'B']\n",
      "Current node: G, Path: ['A', 'B', 'D', 'G']\n",
      "Current node: D, Path: ['A', 'B', 'D', 'G', 'D']\n",
      "Current node: H, Path: ['A', 'B', 'D', 'G', 'H']\n",
      "Current node: F, Path: ['A', 'B', 'D', 'G', 'H', 'F']\n",
      "Current node: C, Path: ['A', 'B', 'D', 'G', 'H', 'F', 'C']\n",
      "Current node: A, Path: ['A', 'B', 'D', 'G', 'H', 'F', 'C', 'A']\n",
      "Current node: F, Path: ['A', 'B', 'D', 'G', 'H', 'F', 'C', 'F']\n",
      "Current node: E, Path: ['A', 'B', 'D', 'G', 'H', 'F', 'E']\n",
      "Path found: ['A', 'B', 'D', 'G', 'H', 'F', 'E']\n"
     ]
    }
   ],
   "source": [
    "graph = {\n",
    "    \"A\": [\"B\", \"C\"],\n",
    "    \"B\": [\"A\", \"D\", \"E\"],\n",
    "    \"C\": [\"A\", \"F\"],\n",
    "    \"D\": [\"B\", \"G\"],\n",
    "    \"E\": [\"B\", \"F\"],\n",
    "    \"F\": [\"C\", \"E\", \"H\"],\n",
    "    \"G\": [\"D\", \"H\"],\n",
    "    \"H\": [\"F\", \"G\"]\n",
    "}\n",
    "\n",
    "\n",
    "def dfs(graph, start, goal):\n",
    "    visited = []\n",
    "    stack = [(start, [])]\n",
    "\n",
    "    while stack:\n",
    "        node, path = stack.pop()\n",
    "        print(f\"Current node: {node}, Path: {path + [node]}\")\n",
    "\n",
    "        if node == goal:\n",
    "            return path + [node]\n",
    "\n",
    "        if node not in visited:\n",
    "            visited.append(node)\n",
    "\n",
    "            for neighbor in reversed(graph[node]):\n",
    "                stack.append((neighbor, path + [node]))\n",
    "\n",
    "    print(\"Goal not found\")\n",
    "    return None\n",
    "\n",
    "\n",
    "start_node = \"A\"\n",
    "goal_node = \"E\"\n",
    "result = dfs(graph, start_node, goal_node)\n",
    "\n",
    "if result:\n",
    "    print(\"Path found:\", result)\n",
    "else:\n",
    "    print(\"No path found.\")"
   ]
  }
 ],
 "metadata": {
  "kernelspec": {
   "display_name": "Python 3",
   "language": "python",
   "name": "python3"
  },
  "language_info": {
   "codemirror_mode": {
    "name": "ipython",
    "version": 3
   },
   "file_extension": ".py",
   "mimetype": "text/x-python",
   "name": "python",
   "nbconvert_exporter": "python",
   "pygments_lexer": "ipython3",
   "version": "3.12.4"
  }
 },
 "nbformat": 4,
 "nbformat_minor": 2
}
