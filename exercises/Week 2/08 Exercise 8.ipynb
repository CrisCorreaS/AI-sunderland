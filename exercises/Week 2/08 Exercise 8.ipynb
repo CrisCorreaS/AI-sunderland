{
 "cells": [
  {
   "cell_type": "markdown",
   "metadata": {},
   "source": [
    "# Exercise 8\n",
    "**Cristina Correa - 1819211867**\n",
    "\n",
    "Experiment with 3 different starting and ending points and observe the problem\n",
    "solution\n",
    "\n",
    "```\n",
    "D ————————— G\n",
    "|           |\n",
    "B ————— E   |\n",
    "|       |   |\n",
    "A — C — F — H\n",
    "```"
   ]
  },
  {
   "cell_type": "code",
   "execution_count": 12,
   "metadata": {},
   "outputs": [
    {
     "name": "stdout",
     "output_type": "stream",
     "text": [
      "Current node: A, Path: ['A']\n",
      "Current node: B, Path: ['A', 'B']\n",
      "Current node: A, Path: ['A', 'B', 'A']\n",
      "Current node: D, Path: ['A', 'B', 'D']\n",
      "Current node: B, Path: ['A', 'B', 'D', 'B']\n",
      "Current node: G, Path: ['A', 'B', 'D', 'G']\n",
      "Path found: ['A', 'B', 'D', 'G']\n"
     ]
    }
   ],
   "source": [
    "# From \"A\" to \"G\"\n",
    "\n",
    "graph = {\n",
    "    \"A\": [\"B\", \"C\"],\n",
    "    \"B\": [\"A\", \"D\", \"E\"],\n",
    "    \"C\": [\"A\", \"F\"],\n",
    "    \"D\": [\"B\", \"G\"],\n",
    "    \"E\": [\"B\", \"F\"],\n",
    "    \"F\": [\"C\", \"E\", \"H\"],\n",
    "    \"G\": [\"D\", \"H\"],\n",
    "    \"H\": [\"F\", \"G\"]\n",
    "}\n",
    "\n",
    "\n",
    "def dfs(graph, start, goal):\n",
    "    visited = []\n",
    "    stack = [(start, [])]\n",
    "\n",
    "    while stack:\n",
    "        node, path = stack.pop()\n",
    "        print(f\"Current node: {node}, Path: {path + [node]}\")\n",
    "\n",
    "        if node == goal:\n",
    "            return path + [node]\n",
    "\n",
    "        if node not in visited:\n",
    "            visited.append(node)\n",
    "\n",
    "            for neighbor in reversed(graph[node]):\n",
    "                stack.append((neighbor, path + [node]))\n",
    "\n",
    "    print(\"Goal not found\")\n",
    "    return None\n",
    "\n",
    "\n",
    "start_node = \"A\"\n",
    "goal_node = \"G\"\n",
    "result = dfs(graph, start_node, goal_node)\n",
    "\n",
    "if result:\n",
    "    print(\"Path found:\", result)\n",
    "else:\n",
    "    print(\"No path found.\")"
   ]
  },
  {
   "cell_type": "code",
   "execution_count": 11,
   "metadata": {},
   "outputs": [
    {
     "name": "stdout",
     "output_type": "stream",
     "text": [
      "Current node: B, Path: ['B']\n",
      "Current node: A, Path: ['B', 'A']\n",
      "Current node: B, Path: ['B', 'A', 'B']\n",
      "Current node: C, Path: ['B', 'A', 'C']\n",
      "Current node: A, Path: ['B', 'A', 'C', 'A']\n",
      "Current node: F, Path: ['B', 'A', 'C', 'F']\n",
      "Current node: C, Path: ['B', 'A', 'C', 'F', 'C']\n",
      "Current node: E, Path: ['B', 'A', 'C', 'F', 'E']\n",
      "Path found: ['B', 'A', 'C', 'F', 'E']\n"
     ]
    }
   ],
   "source": [
    "# From \"B\" to \"E\"\n",
    "\n",
    "start_node2 = \"B\"\n",
    "goal_node2 = \"E\"\n",
    "result = dfs(graph, start_node2, goal_node2)\n",
    "\n",
    "if result:\n",
    "    print(\"Path found:\", result)\n",
    "else:\n",
    "    print(\"No path found.\")"
   ]
  },
  {
   "cell_type": "code",
   "execution_count": 10,
   "metadata": {},
   "outputs": [
    {
     "name": "stdout",
     "output_type": "stream",
     "text": [
      "Current node: H, Path: ['H']\n",
      "Current node: F, Path: ['H', 'F']\n",
      "Current node: C, Path: ['H', 'F', 'C']\n",
      "Path found: ['H', 'F', 'C']\n"
     ]
    }
   ],
   "source": [
    "# From \"H\" to \"C\"\n",
    "\n",
    "start_node3 = \"H\"\n",
    "goal_node3 = \"C\"\n",
    "result = dfs(graph, start_node3, goal_node3)\n",
    "\n",
    "if result:\n",
    "    print(\"Path found:\", result)\n",
    "else:\n",
    "    print(\"No path found.\")"
   ]
  }
 ],
 "metadata": {
  "kernelspec": {
   "display_name": "Python 3",
   "language": "python",
   "name": "python3"
  },
  "language_info": {
   "codemirror_mode": {
    "name": "ipython",
    "version": 3
   },
   "file_extension": ".py",
   "mimetype": "text/x-python",
   "name": "python",
   "nbconvert_exporter": "python",
   "pygments_lexer": "ipython3",
   "version": "3.12.4"
  }
 },
 "nbformat": 4,
 "nbformat_minor": 2
}
