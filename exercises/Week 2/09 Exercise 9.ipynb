{
 "cells": [
  {
   "cell_type": "markdown",
   "metadata": {},
   "source": [
    "# Exercise 9\n",
    "**Cristina Correa - 1819211867**"
   ]
  },
  {
   "cell_type": "code",
   "execution_count": 16,
   "metadata": {},
   "outputs": [],
   "source": [
    "# Imports:\n",
    "import time\n",
    "\n",
    "from time import perf_counter\n",
    "from collections import deque"
   ]
  },
  {
   "cell_type": "markdown",
   "metadata": {},
   "source": [
    "### With the first graph"
   ]
  },
  {
   "cell_type": "code",
   "execution_count": 17,
   "metadata": {},
   "outputs": [
    {
     "name": "stdout",
     "output_type": "stream",
     "text": [
      "Current node: A, Path: ['A']\n",
      "Current node: B, Path: ['A', 'B']\n",
      "Current node: E, Path: ['A', 'E']\n",
      "Current node: C, Path: ['A', 'B', 'C']\n",
      "Path found: ['A', 'B', 'C']\n",
      "This problem took 0.00030609999976149993 seconds\n"
     ]
    }
   ],
   "source": [
    "# BFS -> From \"A\" to \"C\"\n",
    "\n",
    "graph1 = {\n",
    "    \"A\": [\"B\", \"E\"],\n",
    "    \"B\": [\"C\", \"D\"],\n",
    "    \"C\": [\"C\"],\n",
    "    \"D\": [\"D\"],\n",
    "    \"E\": [\"F\", \"G\"],\n",
    "    \"F\": [\"F\"],\n",
    "    \"G\": [\"G\"],\n",
    "}\n",
    "\n",
    "\n",
    "def bfs(graph, start, goal):\n",
    "    visited = []\n",
    "    queue = [(start, [])]\n",
    "\n",
    "    while queue:\n",
    "        node, path = queue.pop(0)\n",
    "        print(f\"Current node: {node}, Path: {path + [node]}\")\n",
    "\n",
    "        if node == goal:\n",
    "            return path + [node]\n",
    "\n",
    "        if node not in visited:\n",
    "            visited.append(node)\n",
    "\n",
    "        for neighbor in graph[node]:\n",
    "            queue.append((neighbor, path + [node]))\n",
    "\n",
    "    print(\"Goal not found\")\n",
    "    return None\n",
    "\n",
    "\n",
    "start_node = \"A\"\n",
    "goal_node = \"C\"\n",
    "\n",
    "start1 = perf_counter()\n",
    "result = bfs(graph1, start_node, goal_node)\n",
    "end1 = perf_counter()\n",
    "\n",
    "execution_time1 = end1 - start1\n",
    "\n",
    "if result:\n",
    "    print(\"Path found:\", result)\n",
    "else:\n",
    "    print(\"No path found.\")\n",
    "\n",
    "print(f\"This problem took {execution_time1} seconds\")"
   ]
  },
  {
   "cell_type": "code",
   "execution_count": 18,
   "metadata": {},
   "outputs": [
    {
     "name": "stdout",
     "output_type": "stream",
     "text": [
      "Current node: A, Path: ['A']\n",
      "Current node: B, Path: ['A', 'B']\n",
      "Current node: C, Path: ['A', 'B', 'C']\n",
      "Path found: ['A', 'B', 'C']\n",
      "This problem took 0.00017070000012608944 seconds\n"
     ]
    }
   ],
   "source": [
    "# DFS -> From \"A\" to \"C\"\n",
    "\n",
    "def dfs(graph, start, goal):\n",
    "    visited = []\n",
    "    stack = [(start, [])]\n",
    "\n",
    "    while stack:\n",
    "        node, path = stack.pop()\n",
    "        print(f\"Current node: {node}, Path: {path + [node]}\")\n",
    "\n",
    "        if node == goal:\n",
    "            return path + [node]\n",
    "\n",
    "        if node not in visited:\n",
    "            visited.append(node)\n",
    "\n",
    "            for neighbor in reversed(graph[node]):\n",
    "                stack.append((neighbor, path + [node]))\n",
    "\n",
    "    print(\"Goal not found\")\n",
    "    return None\n",
    "\n",
    "\n",
    "start_node = \"A\"\n",
    "goal_node = \"C\"\n",
    "\n",
    "start2 = perf_counter()\n",
    "result = dfs(graph1, start_node, goal_node)\n",
    "end2 = perf_counter()\n",
    "\n",
    "execution_time2 = end2 - start2\n",
    "\n",
    "if result:\n",
    "    print(\"Path found:\", result)\n",
    "else:\n",
    "    print(\"No path found.\")\n",
    "\n",
    "print(f\"This problem took {execution_time2} seconds\")"
   ]
  },
  {
   "cell_type": "markdown",
   "metadata": {},
   "source": [
    "----\n",
    "\n",
    "### With the second graph\n",
    "\n",
    "```\n",
    "D ————————— G\n",
    "|           |\n",
    "B ————— E   |\n",
    "|       |   |\n",
    "A — C — F — H\n",
    "```"
   ]
  },
  {
   "cell_type": "code",
   "execution_count": 21,
   "metadata": {},
   "outputs": [
    {
     "name": "stdout",
     "output_type": "stream",
     "text": [
      "Current node: A, Path: ['A']\n",
      "Current node: B, Path: ['A', 'B']\n",
      "Current node: C, Path: ['A', 'C']\n",
      "Path found: ['A', 'C']\n",
      "This problem took 0.00019099999917671084 seconds\n"
     ]
    }
   ],
   "source": [
    "# BFS -> From \"B\" to \"G\"\n",
    "\n",
    "graph2 = {\n",
    "    \"A\": [\"B\", \"C\"],\n",
    "    \"B\": [\"A\", \"D\", \"E\"],\n",
    "    \"C\": [\"A\", \"F\"],\n",
    "    \"D\": [\"B\", \"G\"],\n",
    "    \"E\": [\"B\", \"F\"],\n",
    "    \"F\": [\"C\", \"E\", \"H\"],\n",
    "    \"G\": [\"D\", \"H\"],\n",
    "    \"H\": [\"F\", \"G\"],\n",
    "}\n",
    "\n",
    "\n",
    "def bfs(graph, start, goal):\n",
    "    visited = []\n",
    "    queue = [(start, [])]\n",
    "\n",
    "    while queue:\n",
    "        node, path = queue.pop(0)\n",
    "        print(f\"Current node: {node}, Path: {path + [node]}\")\n",
    "\n",
    "        if node == goal:\n",
    "            return path + [node]\n",
    "\n",
    "        if node not in visited:\n",
    "            visited.append(node)\n",
    "\n",
    "        for neighbor in graph[node]:\n",
    "            queue.append((neighbor, path + [node]))\n",
    "\n",
    "    print(\"Goal not found\")\n",
    "    return None\n",
    "\n",
    "\n",
    "start_node = \"A\"\n",
    "goal_node = \"C\"\n",
    "\n",
    "start3 = perf_counter()\n",
    "result = bfs(graph2, start_node, goal_node)\n",
    "end3 = perf_counter()\n",
    "\n",
    "execution_time3 = end3 - start3\n",
    "\n",
    "if result:\n",
    "    print(\"Path found:\", result)\n",
    "else:\n",
    "    print(\"No path found.\")\n",
    "\n",
    "print(f\"This problem took {execution_time3} seconds\")"
   ]
  },
  {
   "cell_type": "code",
   "execution_count": 22,
   "metadata": {},
   "outputs": [
    {
     "name": "stdout",
     "output_type": "stream",
     "text": [
      "Current node: A, Path: ['A']\n",
      "Current node: B, Path: ['A', 'B']\n",
      "Current node: A, Path: ['A', 'B', 'A']\n",
      "Current node: D, Path: ['A', 'B', 'D']\n",
      "Current node: B, Path: ['A', 'B', 'D', 'B']\n",
      "Current node: G, Path: ['A', 'B', 'D', 'G']\n",
      "Current node: D, Path: ['A', 'B', 'D', 'G', 'D']\n",
      "Current node: H, Path: ['A', 'B', 'D', 'G', 'H']\n",
      "Current node: F, Path: ['A', 'B', 'D', 'G', 'H', 'F']\n",
      "Current node: C, Path: ['A', 'B', 'D', 'G', 'H', 'F', 'C']\n",
      "Path found: ['A', 'B', 'D', 'G', 'H', 'F', 'C']\n",
      "This problem took 0.0003755999996428727 seconds\n"
     ]
    }
   ],
   "source": [
    "# DFS -> From \"A\" to \"C\"\n",
    "\n",
    "def dfs(graph, start, goal):\n",
    "    visited = []\n",
    "    stack = [(start, [])]\n",
    "\n",
    "    while stack:\n",
    "        node, path = stack.pop()\n",
    "        print(f\"Current node: {node}, Path: {path + [node]}\")\n",
    "\n",
    "        if node == goal:\n",
    "            return path + [node]\n",
    "\n",
    "        if node not in visited:\n",
    "            visited.append(node)\n",
    "\n",
    "            for neighbor in reversed(graph[node]):\n",
    "                stack.append((neighbor, path + [node]))\n",
    "\n",
    "    print(\"Goal not found\")\n",
    "    return None\n",
    "\n",
    "\n",
    "start_node = \"A\"\n",
    "goal_node = \"C\"\n",
    "\n",
    "start4 = perf_counter()\n",
    "result = dfs(graph2, start_node, goal_node)\n",
    "end4 = perf_counter()\n",
    "\n",
    "execution_time4 = end4 - start4\n",
    "\n",
    "if result:\n",
    "    print(\"Path found:\", result)\n",
    "else:\n",
    "    print(\"No path found.\")\n",
    "\n",
    "print(f\"This problem took {execution_time4} seconds\")"
   ]
  }
 ],
 "metadata": {
  "kernelspec": {
   "display_name": "Python 3",
   "language": "python",
   "name": "python3"
  },
  "language_info": {
   "codemirror_mode": {
    "name": "ipython",
    "version": 3
   },
   "file_extension": ".py",
   "mimetype": "text/x-python",
   "name": "python",
   "nbconvert_exporter": "python",
   "pygments_lexer": "ipython3",
   "version": "3.12.4"
  }
 },
 "nbformat": 4,
 "nbformat_minor": 2
}
