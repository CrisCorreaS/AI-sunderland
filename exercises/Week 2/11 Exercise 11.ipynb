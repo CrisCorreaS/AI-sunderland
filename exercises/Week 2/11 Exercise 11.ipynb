{
 "cells": [
  {
   "cell_type": "markdown",
   "metadata": {},
   "source": [
    "# Exercise 11\n",
    "**Cristina Correa - 1819211867**\n",
    "\n",
    "Update the graph to use the problem defined in Figure 2\n",
    "```\n",
    "D ————————— G\n",
    "|           |\n",
    "B ————— E   |\n",
    "|       |   |\n",
    "A — C — F — H\n",
    "```"
   ]
  },
  {
   "cell_type": "code",
   "execution_count": 2,
   "metadata": {},
   "outputs": [
    {
     "name": "stdout",
     "output_type": "stream",
     "text": [
      "Current node: F, Path: ['F'], Depth: 0\n",
      "Current node: C, Path: ['F', 'C'], Depth: 1\n",
      "Current node: A, Path: ['F', 'C', 'A'], Depth: 2\n",
      "Current node: B, Path: ['F', 'C', 'A', 'B'], Depth: 3\n",
      "Current node: C, Path: ['F', 'C', 'A', 'C'], Depth: 3\n",
      "Current node: F, Path: ['F', 'C', 'F'], Depth: 2\n",
      "Current node: E, Path: ['F', 'E'], Depth: 1\n",
      "Current node: B, Path: ['F', 'E', 'B'], Depth: 2\n",
      "Current node: F, Path: ['F', 'E', 'F'], Depth: 2\n",
      "Current node: H, Path: ['F', 'H'], Depth: 1\n",
      "Current node: F, Path: ['F', 'H', 'F'], Depth: 2\n",
      "Current node: G, Path: ['F', 'H', 'G'], Depth: 2\n",
      "Current node: D, Path: ['F', 'H', 'G', 'D'], Depth: 3\n",
      "Path found: ['F', 'H', 'G', 'D']\n"
     ]
    }
   ],
   "source": [
    "graph = {\n",
    "    \"A\": [\"B\", \"C\"],\n",
    "    \"B\": [\"A\", \"D\", \"E\"],\n",
    "    \"C\": [\"A\", \"F\"],\n",
    "    \"D\": [\"B\", \"G\"],\n",
    "    \"E\": [\"B\", \"F\"],\n",
    "    \"F\": [\"C\", \"E\", \"H\"],\n",
    "    \"G\": [\"D\", \"H\"],\n",
    "    \"H\": [\"F\", \"G\"]\n",
    "}\n",
    "\n",
    "def dls(graph, start, goal, limit):\n",
    "    visited = []\n",
    "    stack = [(start, [], 0)]\n",
    "\n",
    "    while stack:\n",
    "        node, path, depth = stack.pop()\n",
    "        print(f\"Current node: {node}, Path: {path + [node]}, Depth: {depth}\")\n",
    "\n",
    "        if node == goal:\n",
    "            return path + [node]\n",
    "\n",
    "        if node not in visited:\n",
    "            visited.append(node)\n",
    "\n",
    "            if depth < limit:\n",
    "                for neighbor in reversed(graph[node]):\n",
    "                    stack.append((neighbor, path + [node], depth + 1))\n",
    "\n",
    "    print(f\"Goal not found within depth limit {limit}\")\n",
    "    return None\n",
    "\n",
    "\n",
    "start_node = \"F\"\n",
    "goal_node = \"D\"\n",
    "limit = 3\n",
    "\n",
    "result = dls(graph, start_node, goal_node, limit)\n",
    "\n",
    "if result:\n",
    "    print(\"Path found:\", result)\n",
    "else:\n",
    "    print(\"No path found.\")"
   ]
  }
 ],
 "metadata": {
  "kernelspec": {
   "display_name": "Python 3",
   "language": "python",
   "name": "python3"
  },
  "language_info": {
   "codemirror_mode": {
    "name": "ipython",
    "version": 3
   },
   "file_extension": ".py",
   "mimetype": "text/x-python",
   "name": "python",
   "nbconvert_exporter": "python",
   "pygments_lexer": "ipython3",
   "version": "3.12.4"
  }
 },
 "nbformat": 4,
 "nbformat_minor": 2
}
