{
 "cells": [
  {
   "cell_type": "markdown",
   "metadata": {},
   "source": [
    "# Exercise 12\n",
    "**Cristina Correa - 1819211867**\n",
    "\n",
    "Experiment with 3 different starting and ending points and observe the problem\n",
    "solution\n",
    "\n",
    "```\n",
    "D ————————— G\n",
    "|           |\n",
    "B ————— E   |\n",
    "|       |   |\n",
    "A — C — F — H\n",
    "```"
   ]
  },
  {
   "cell_type": "code",
   "execution_count": 5,
   "metadata": {},
   "outputs": [
    {
     "name": "stdout",
     "output_type": "stream",
     "text": [
      "Current node: F, Path: ['F'], Depth: 0\n",
      "Current node: C, Path: ['F', 'C'], Depth: 1\n",
      "Current node: A, Path: ['F', 'C', 'A'], Depth: 2\n",
      "Current node: F, Path: ['F', 'C', 'F'], Depth: 2\n",
      "Current node: E, Path: ['F', 'E'], Depth: 1\n",
      "Current node: B, Path: ['F', 'E', 'B'], Depth: 2\n",
      "Current node: F, Path: ['F', 'E', 'F'], Depth: 2\n",
      "Current node: H, Path: ['F', 'H'], Depth: 1\n",
      "Current node: F, Path: ['F', 'H', 'F'], Depth: 2\n",
      "Current node: G, Path: ['F', 'H', 'G'], Depth: 2\n",
      "Path found: ['F', 'H', 'G']\n"
     ]
    }
   ],
   "source": [
    "# First -> From \"F\" to \"G\"\n",
    "\n",
    "graph = {\n",
    "    \"A\": [\"B\", \"C\"],\n",
    "    \"B\": [\"A\", \"D\", \"E\"],\n",
    "    \"C\": [\"A\", \"F\"],\n",
    "    \"D\": [\"B\", \"G\"],\n",
    "    \"E\": [\"B\", \"F\"],\n",
    "    \"F\": [\"C\", \"E\", \"H\"],\n",
    "    \"G\": [\"D\", \"H\"],\n",
    "    \"H\": [\"F\", \"G\"]\n",
    "}\n",
    "\n",
    "def dls(graph, start, goal, limit):\n",
    "    visited = []\n",
    "    stack = [(start, [], 0)]\n",
    "\n",
    "    while stack:\n",
    "        node, path, depth = stack.pop()\n",
    "        print(f\"Current node: {node}, Path: {path + [node]}, Depth: {depth}\")\n",
    "\n",
    "        if node == goal:\n",
    "            return path + [node]\n",
    "\n",
    "        if node not in visited:\n",
    "            visited.append(node)\n",
    "\n",
    "            if depth < limit:\n",
    "                for neighbor in reversed(graph[node]):\n",
    "                    stack.append((neighbor, path + [node], depth + 1))\n",
    "\n",
    "    print(f\"Goal not found within depth limit {limit}\")\n",
    "    return None\n",
    "\n",
    "\n",
    "start_node = \"F\"\n",
    "goal_node = \"G\"\n",
    "limit = 2\n",
    "\n",
    "result = dls(graph, start_node, goal_node, limit)\n",
    "\n",
    "if result:\n",
    "    print(\"Path found:\", result)\n",
    "else:\n",
    "    print(\"No path found.\")"
   ]
  },
  {
   "cell_type": "code",
   "execution_count": 6,
   "metadata": {},
   "outputs": [
    {
     "name": "stdout",
     "output_type": "stream",
     "text": [
      "Current node: E, Path: ['E'], Depth: 0\n",
      "Current node: B, Path: ['E', 'B'], Depth: 1\n",
      "Current node: F, Path: ['E', 'F'], Depth: 1\n",
      "Goal not found within depth limit 1\n",
      "No path found.\n"
     ]
    }
   ],
   "source": [
    "# Second  -> From \"E\" to \"A\"\n",
    "\n",
    "start_node2 = \"E\"\n",
    "goal_node2 = \"A\"\n",
    "limit2 = 1\n",
    "\n",
    "result2 = dls(graph, start_node2, goal_node2, limit2)\n",
    "\n",
    "if result2:\n",
    "    print(\"Path found:\", result2)\n",
    "else:\n",
    "    print(\"No path found.\")"
   ]
  },
  {
   "cell_type": "code",
   "execution_count": 7,
   "metadata": {},
   "outputs": [
    {
     "name": "stdout",
     "output_type": "stream",
     "text": [
      "Current node: D, Path: ['D'], Depth: 0\n",
      "Current node: B, Path: ['D', 'B'], Depth: 1\n",
      "Current node: A, Path: ['D', 'B', 'A'], Depth: 2\n",
      "Current node: B, Path: ['D', 'B', 'A', 'B'], Depth: 3\n",
      "Current node: C, Path: ['D', 'B', 'A', 'C'], Depth: 3\n",
      "Current node: D, Path: ['D', 'B', 'D'], Depth: 2\n",
      "Current node: E, Path: ['D', 'B', 'E'], Depth: 2\n",
      "Current node: B, Path: ['D', 'B', 'E', 'B'], Depth: 3\n",
      "Current node: F, Path: ['D', 'B', 'E', 'F'], Depth: 3\n",
      "Current node: G, Path: ['D', 'G'], Depth: 1\n",
      "Current node: D, Path: ['D', 'G', 'D'], Depth: 2\n",
      "Current node: H, Path: ['D', 'G', 'H'], Depth: 2\n",
      "Path found: ['D', 'G', 'H']\n"
     ]
    }
   ],
   "source": [
    "# Second  -> From \"D\" to \"H\"\n",
    "\n",
    "start_node3 = \"D\"\n",
    "goal_node3 = \"H\"\n",
    "limit3 = 3\n",
    "\n",
    "result3 = dls(graph, start_node3, goal_node3, limit3)\n",
    "\n",
    "if result3:\n",
    "    print(\"Path found:\", result3)\n",
    "else:\n",
    "    print(\"No path found.\")"
   ]
  }
 ],
 "metadata": {
  "kernelspec": {
   "display_name": "Python 3",
   "language": "python",
   "name": "python3"
  },
  "language_info": {
   "codemirror_mode": {
    "name": "ipython",
    "version": 3
   },
   "file_extension": ".py",
   "mimetype": "text/x-python",
   "name": "python",
   "nbconvert_exporter": "python",
   "pygments_lexer": "ipython3",
   "version": "3.12.4"
  }
 },
 "nbformat": 4,
 "nbformat_minor": 2
}
