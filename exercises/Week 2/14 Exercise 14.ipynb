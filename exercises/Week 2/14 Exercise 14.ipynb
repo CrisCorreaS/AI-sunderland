{
 "cells": [
  {
   "cell_type": "markdown",
   "metadata": {},
   "source": [
    "# Exercise 14\n",
    "**Cristina Correa - 1819211867**\n",
    "\n",
    "Make your own graph that has many many layers and do a comparison of the\n",
    "different algorithms\n",
    "\n",
    "```\n",
    "   K          L\n",
    "   |          |\n",
    "   I — J ———— M ——— N\n",
    "  /   |     /      /\n",
    " A — B ——— C — D — E\n",
    "      \\   /    |  /\n",
    "        F ———— G ——— H\n",
    "````"
   ]
  },
  {
   "cell_type": "code",
   "execution_count": 1,
   "metadata": {},
   "outputs": [],
   "source": [
    "graph = {\n",
    "  \"A\": [\"I\", \"B\"],\n",
    "  \"B\": [\"A\", \"C\", \"J\", \"F\"],\n",
    "  \"C\": [\"B\", \"M\", \"D\", \"F\"],\n",
    "  \"D\": [\"C\", \"E\", \"G\"],\n",
    "  \"E\": [\"D\", \"N\", \"G\"],\n",
    "  \"F\": [\"B\", \"C\", \"G\"],\n",
    "  \"G\": [\"F\", \"D\", \"E\", \"H\"],\n",
    "  \"H\": [\"G\"],\n",
    "  \"I\": [\"A\", \"K\", \"J\"],\n",
    "  \"J\": [\"I\", \"B\", \"M\"],\n",
    "  \"K\": [\"I\"],\n",
    "  \"L\": [\"M\"],\n",
    "  \"M\": [\"L\", \"J\", \"C\", \"N\"],\n",
    "  \"N\": [\"M\", \"E\"]\n",
    "}"
   ]
  },
  {
   "cell_type": "markdown",
   "metadata": {},
   "source": [
    "I will do it to solve the problem of going from \"G\" to \"K\""
   ]
  },
  {
   "cell_type": "code",
   "execution_count": 2,
   "metadata": {},
   "outputs": [],
   "source": [
    "start_node = \"G\"\n",
    "goal_node = \"K\""
   ]
  },
  {
   "cell_type": "code",
   "execution_count": 4,
   "metadata": {},
   "outputs": [
    {
     "name": "stdout",
     "output_type": "stream",
     "text": [
      "Current node: G, Path: ['G']\n",
      "Current node: F, Path: ['G', 'F']\n",
      "Current node: D, Path: ['G', 'D']\n",
      "Current node: E, Path: ['G', 'E']\n",
      "Current node: H, Path: ['G', 'H']\n",
      "Current node: B, Path: ['G', 'F', 'B']\n",
      "Current node: C, Path: ['G', 'F', 'C']\n",
      "Current node: C, Path: ['G', 'D', 'C']\n",
      "Current node: E, Path: ['G', 'D', 'E']\n",
      "Current node: N, Path: ['G', 'E', 'N']\n",
      "Current node: A, Path: ['G', 'F', 'B', 'A']\n",
      "Current node: C, Path: ['G', 'F', 'B', 'C']\n",
      "Current node: J, Path: ['G', 'F', 'B', 'J']\n",
      "Current node: M, Path: ['G', 'F', 'C', 'M']\n",
      "Current node: M, Path: ['G', 'E', 'N', 'M']\n",
      "Current node: I, Path: ['G', 'F', 'B', 'A', 'I']\n",
      "Current node: I, Path: ['G', 'F', 'B', 'J', 'I']\n",
      "Current node: M, Path: ['G', 'F', 'B', 'J', 'M']\n",
      "Current node: L, Path: ['G', 'F', 'C', 'M', 'L']\n",
      "Current node: K, Path: ['G', 'F', 'B', 'A', 'I', 'K']\n",
      "Path found: ['G', 'F', 'B', 'A', 'I', 'K']\n"
     ]
    }
   ],
   "source": [
    "# BFS\n",
    "\n",
    "from collections import deque\n",
    "\n",
    "\n",
    "def bfs(graph, start, goal):\n",
    "    visited = set()\n",
    "    queue = deque([(start, [])])\n",
    "\n",
    "    while queue:\n",
    "        node, path = queue.popleft()\n",
    "        print(f\"Current node: {node}, Path: {path + [node]}\")\n",
    "\n",
    "        if node == goal:\n",
    "            return path + [node]\n",
    "\n",
    "        if node not in visited:\n",
    "            visited.add(node)\n",
    "\n",
    "            for neighbor in graph[node]:\n",
    "                if neighbor not in visited:\n",
    "                    queue.append((neighbor, path + [node]))\n",
    "\n",
    "    print(\"Goal not found\")\n",
    "    return None\n",
    "\n",
    "\n",
    "result_bfs = bfs(graph, start_node, goal_node)\n",
    "\n",
    "if result_bfs:\n",
    "    print(\"Path found:\", result_bfs)\n",
    "else:\n",
    "    print(\"No path found.\")"
   ]
  },
  {
   "cell_type": "code",
   "execution_count": 5,
   "metadata": {},
   "outputs": [
    {
     "name": "stdout",
     "output_type": "stream",
     "text": [
      "Current node: G, Path: ['G']\n",
      "Current node: F, Path: ['G', 'F']\n",
      "Current node: B, Path: ['G', 'F', 'B']\n",
      "Current node: A, Path: ['G', 'F', 'B', 'A']\n",
      "Current node: I, Path: ['G', 'F', 'B', 'A', 'I']\n",
      "Current node: A, Path: ['G', 'F', 'B', 'A', 'I', 'A']\n",
      "Current node: K, Path: ['G', 'F', 'B', 'A', 'I', 'K']\n",
      "Path found: ['G', 'F', 'B', 'A', 'I', 'K']\n"
     ]
    }
   ],
   "source": [
    "# DFS\n",
    "\n",
    "def dfs(graph, start, goal):\n",
    "    visited = []\n",
    "    stack = [(start, [])]\n",
    "\n",
    "    while stack:\n",
    "        node, path = stack.pop()\n",
    "        print(f\"Current node: {node}, Path: {path + [node]}\")\n",
    "\n",
    "        if node == goal:\n",
    "            return path + [node]\n",
    "\n",
    "        if node not in visited:\n",
    "            visited.append(node)\n",
    "\n",
    "            for neighbor in reversed(graph[node]):\n",
    "                stack.append((neighbor, path + [node]))\n",
    "\n",
    "    print(\"Goal not found\")\n",
    "    return None\n",
    "\n",
    "\n",
    "result_dfs = dfs(graph, start_node, goal_node)\n",
    "\n",
    "if result_dfs:\n",
    "    print(\"Path found:\", result_dfs)\n",
    "else:\n",
    "    print(\"No path found.\")"
   ]
  },
  {
   "cell_type": "code",
   "execution_count": 6,
   "metadata": {},
   "outputs": [
    {
     "name": "stdout",
     "output_type": "stream",
     "text": [
      "Current node: G, Path: ['G'], Depth: 0\n",
      "Current node: F, Path: ['G', 'F'], Depth: 1\n",
      "Current node: B, Path: ['G', 'F', 'B'], Depth: 2\n",
      "Current node: A, Path: ['G', 'F', 'B', 'A'], Depth: 3\n",
      "Current node: I, Path: ['G', 'F', 'B', 'A', 'I'], Depth: 4\n",
      "Current node: A, Path: ['G', 'F', 'B', 'A', 'I', 'A'], Depth: 5\n",
      "Current node: K, Path: ['G', 'F', 'B', 'A', 'I', 'K'], Depth: 5\n",
      "Path found: ['G', 'F', 'B', 'A', 'I', 'K']\n"
     ]
    }
   ],
   "source": [
    "# DLS\n",
    "\n",
    "\n",
    "def dls(graph, start, goal, limit):\n",
    "    visited = []\n",
    "    stack = [(start, [], 0)]\n",
    "\n",
    "    while stack:\n",
    "        node, path, depth = stack.pop()\n",
    "        print(f\"Current node: {node}, Path: {path + [node]}, Depth: {depth}\")\n",
    "\n",
    "        if node == goal:\n",
    "            return path + [node]\n",
    "\n",
    "        if node not in visited:\n",
    "            visited.append(node)\n",
    "\n",
    "            if depth < limit:\n",
    "                for neighbor in reversed(graph[node]):\n",
    "                    stack.append((neighbor, path + [node], depth + 1))\n",
    "\n",
    "    print(f\"Goal not found within depth limit {limit}\")\n",
    "    return None\n",
    "\n",
    "limit = 5\n",
    "\n",
    "result_dls = dls(graph, start_node, goal_node, limit)\n",
    "\n",
    "if result_dls:\n",
    "    print(\"Path found:\", result_dls)\n",
    "else:\n",
    "    print(\"No path found.\")"
   ]
  }
 ],
 "metadata": {
  "kernelspec": {
   "display_name": "Python 3",
   "language": "python",
   "name": "python3"
  },
  "language_info": {
   "codemirror_mode": {
    "name": "ipython",
    "version": 3
   },
   "file_extension": ".py",
   "mimetype": "text/x-python",
   "name": "python",
   "nbconvert_exporter": "python",
   "pygments_lexer": "ipython3",
   "version": "3.12.4"
  }
 },
 "nbformat": 4,
 "nbformat_minor": 2
}
