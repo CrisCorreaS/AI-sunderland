{
 "cells": [
  {
   "cell_type": "markdown",
   "metadata": {},
   "source": [
    "# Exercise 15\n",
    "**Cristina Correa - 1819211867**\n",
    "\n",
    "Write a script that will take the number of levels the tree has and the number of\n",
    "nodes that branches from the nodes\n",
    "\n",
    "```\n",
    "   K          L\n",
    "   |          |\n",
    "   I — J ———— M ——— N\n",
    "  /   |     /      /\n",
    " A — B ——— C — D — E\n",
    "      \\   /    |  /\n",
    "        F ———— G ——— H\n",
    "````"
   ]
  },
  {
   "cell_type": "code",
   "execution_count": 6,
   "metadata": {},
   "outputs": [
    {
     "name": "stdout",
     "output_type": "stream",
     "text": [
      "Level 0: A \n",
      "Level 1: I B \n",
      "Level 2: K J C J F \n",
      "Level 3: M M D F G \n",
      "Level 4: L N E G E H \n",
      "Level 5: E \n",
      "There's 6 levels and 14 nodes\n"
     ]
    }
   ],
   "source": [
    "from collections import deque\n",
    "\n",
    "graph = {\n",
    "    \"A\": [\"I\", \"B\"],\n",
    "    \"B\": [\"A\", \"C\", \"J\", \"F\"],\n",
    "    \"C\": [\"B\", \"M\", \"D\", \"F\"],\n",
    "    \"D\": [\"C\", \"E\", \"G\"],\n",
    "    \"E\": [\"D\", \"N\", \"G\"],\n",
    "    \"F\": [\"B\", \"C\", \"G\"],\n",
    "    \"G\": [\"F\", \"D\", \"E\", \"H\"],\n",
    "    \"H\": [\"G\"],\n",
    "    \"I\": [\"A\", \"K\", \"J\"],\n",
    "    \"J\": [\"I\", \"B\", \"M\"],\n",
    "    \"K\": [\"I\"],\n",
    "    \"L\": [\"M\"],\n",
    "    \"M\": [\"L\", \"J\", \"C\", \"N\"],\n",
    "    \"N\": [\"M\", \"E\"],\n",
    "}\n",
    "\n",
    "\n",
    "def bfs(graph, start):\n",
    "    visited = set()\n",
    "    queue = deque([start])\n",
    "    total_nodes = 0\n",
    "    total_levels = 0\n",
    "\n",
    "    while queue:\n",
    "        level_size = len(queue)\n",
    "        print(f\"Level {total_levels}: \", end=\"\")\n",
    "\n",
    "        for _ in range(level_size):\n",
    "            current_node = queue.popleft()\n",
    "            print(current_node, end=\" \")\n",
    "\n",
    "            if current_node not in visited:\n",
    "                visited.add(current_node)\n",
    "                total_nodes += 1\n",
    "\n",
    "                for neighbor in graph[current_node]:\n",
    "                    if neighbor not in visited:\n",
    "                        queue.append(neighbor)\n",
    "\n",
    "        print()\n",
    "        total_levels += 1\n",
    "\n",
    "    print(f\"There's {total_levels} levels and {total_nodes} nodes\")\n",
    "\n",
    "\n",
    "start_node = \"A\"\n",
    "bfs(graph, start_node)"
   ]
  }
 ],
 "metadata": {
  "kernelspec": {
   "display_name": "Python 3",
   "language": "python",
   "name": "python3"
  },
  "language_info": {
   "codemirror_mode": {
    "name": "ipython",
    "version": 3
   },
   "file_extension": ".py",
   "mimetype": "text/x-python",
   "name": "python",
   "nbconvert_exporter": "python",
   "pygments_lexer": "ipython3",
   "version": "3.12.4"
  }
 },
 "nbformat": 4,
 "nbformat_minor": 2
}
