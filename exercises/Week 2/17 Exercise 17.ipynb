{
 "cells": [
  {
   "cell_type": "markdown",
   "metadata": {},
   "source": [
    "# Exercise 17\n",
    "**Cristina Correa - 1819211867**\n",
    "\n",
    "In this exercise we will be using search algorithms to solve a\n",
    "maze problem. Let us start by defining the following maze:\n",
    "\n",
    "```\n",
    "A ↔ B ↔ C\n",
    "↕   ↕   ↕\n",
    "D   E ↔ F\n",
    "↕   ↕\n",
    "G ↔ H\n",
    "```\n",
    "\n",
    "Write a script to define the maze as a dictionary as done in exercise 1"
   ]
  },
  {
   "cell_type": "code",
   "execution_count": null,
   "metadata": {},
   "outputs": [],
   "source": [
    "graph = {\n",
    "  \"A\": [\"B\", \"D\"],\n",
    "  \"B\": [\"A\", \"E\", \"C\"],\n",
    "  \"C\": [\"B\", \"F\"],\n",
    "  \"D\": [\"A\", \"G\"],\n",
    "  \"E\": [\"B\", \"F\", \"H\"],\n",
    "  \"F\": [\"E\", \"C\"],\n",
    "  \"G\": [\"D\", \"H\"],\n",
    "  \"H\": [\"G\", \"E\"]\n",
    "}"
   ]
  }
 ],
 "metadata": {
  "kernelspec": {
   "display_name": "Python 3",
   "language": "python",
   "name": "python3"
  },
  "language_info": {
   "name": "python",
   "version": "3.12.4"
  }
 },
 "nbformat": 4,
 "nbformat_minor": 2
}
