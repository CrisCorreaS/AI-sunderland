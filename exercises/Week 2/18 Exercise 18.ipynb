{
 "cells": [
  {
   "cell_type": "markdown",
   "metadata": {},
   "source": [
    "# Exercise 18\n",
    "**Cristina Correa - 1819211867**\n",
    "\n",
    "Use BFS algorithm to solve the maze\n",
    "\n",
    "```\n",
    "A ↔ B ↔ C\n",
    "↕   ↕   ↕\n",
    "D   E ↔ F\n",
    "↕   ↕\n",
    "G ↔ H\n",
    "```"
   ]
  },
  {
   "cell_type": "code",
   "execution_count": 1,
   "metadata": {},
   "outputs": [
    {
     "name": "stdout",
     "output_type": "stream",
     "text": [
      "Current node: A, Path: ['A']\n",
      "Current node: B, Path: ['A', 'B']\n",
      "Current node: D, Path: ['A', 'D']\n",
      "Current node: E, Path: ['A', 'B', 'E']\n",
      "Current node: C, Path: ['A', 'B', 'C']\n",
      "Current node: G, Path: ['A', 'D', 'G']\n",
      "Current node: F, Path: ['A', 'B', 'E', 'F']\n",
      "Path found: ['A', 'B', 'E', 'F']\n"
     ]
    }
   ],
   "source": [
    "from collections import deque\n",
    "\n",
    "graph = {\n",
    "  \"A\": [\"B\", \"D\"],\n",
    "  \"B\": [\"A\", \"E\", \"C\"],\n",
    "  \"C\": [\"B\", \"F\"],\n",
    "  \"D\": [\"A\", \"G\"],\n",
    "  \"E\": [\"B\", \"F\", \"H\"],\n",
    "  \"F\": [\"E\", \"C\"],\n",
    "  \"G\": [\"D\", \"H\"],\n",
    "  \"H\": [\"G\", \"E\"]\n",
    "}\n",
    "\n",
    "\n",
    "def bfs(graph, start, goal):\n",
    "    visited = set()\n",
    "    queue = deque([(start, [])])\n",
    "\n",
    "    while queue:\n",
    "        node, path = queue.popleft()\n",
    "        print(f\"Current node: {node}, Path: {path + [node]}\")\n",
    "\n",
    "        if node == goal:\n",
    "            return path + [node]\n",
    "\n",
    "        if node not in visited:\n",
    "            visited.add(node)\n",
    "\n",
    "            for neighbor in graph[node]:\n",
    "                if neighbor not in visited:\n",
    "                    queue.append((neighbor, path + [node]))\n",
    "\n",
    "    print(\"Goal not found\")\n",
    "    return None\n",
    "\n",
    "\n",
    "start_node = \"A\"\n",
    "goal_node = \"F\"\n",
    "result = bfs(graph, start_node, goal_node)\n",
    "\n",
    "if result:\n",
    "    print(\"Path found:\", result)\n",
    "else:\n",
    "    print(\"No path found.\")"
   ]
  }
 ],
 "metadata": {
  "kernelspec": {
   "display_name": "Python 3",
   "language": "python",
   "name": "python3"
  },
  "language_info": {
   "codemirror_mode": {
    "name": "ipython",
    "version": 3
   },
   "file_extension": ".py",
   "mimetype": "text/x-python",
   "name": "python",
   "nbconvert_exporter": "python",
   "pygments_lexer": "ipython3",
   "version": "3.12.4"
  }
 },
 "nbformat": 4,
 "nbformat_minor": 2
}
