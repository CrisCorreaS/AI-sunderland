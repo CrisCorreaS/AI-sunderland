{
 "cells": [
  {
   "cell_type": "markdown",
   "metadata": {},
   "source": [
    "# Exercise 19\n",
    "**Cristina Correa - 1819211867**\n",
    "\n",
    "Use DLS algorithm to solve the maze\n",
    "\n",
    "```\n",
    "A ↔ B ↔ C\n",
    "↕   ↕   ↕\n",
    "D   E ↔ F\n",
    "↕   ↕\n",
    "G ↔ H\n",
    "```"
   ]
  },
  {
   "cell_type": "code",
   "execution_count": 1,
   "metadata": {},
   "outputs": [
    {
     "name": "stdout",
     "output_type": "stream",
     "text": [
      "Current node: A, Path: ['A'], Depth: 0\n",
      "Current node: B, Path: ['A', 'B'], Depth: 1\n",
      "Current node: A, Path: ['A', 'B', 'A'], Depth: 2\n",
      "Current node: E, Path: ['A', 'B', 'E'], Depth: 2\n",
      "Current node: B, Path: ['A', 'B', 'E', 'B'], Depth: 3\n",
      "Current node: F, Path: ['A', 'B', 'E', 'F'], Depth: 3\n",
      "Path found: ['A', 'B', 'E', 'F']\n"
     ]
    }
   ],
   "source": [
    "graph = {\n",
    "  \"A\": [\"B\", \"D\"],\n",
    "  \"B\": [\"A\", \"E\", \"C\"],\n",
    "  \"C\": [\"B\", \"F\"],\n",
    "  \"D\": [\"A\", \"G\"],\n",
    "  \"E\": [\"B\", \"F\", \"H\"],\n",
    "  \"F\": [\"E\", \"C\"],\n",
    "  \"G\": [\"D\", \"H\"],\n",
    "  \"H\": [\"G\", \"E\"]\n",
    "}\n",
    "\n",
    "\n",
    "def dls(graph, start, goal, limit):\n",
    "    visited = []\n",
    "    stack = [(start, [], 0)]\n",
    "\n",
    "    while stack:\n",
    "        node, path, depth = stack.pop()\n",
    "        print(f\"Current node: {node}, Path: {path + [node]}, Depth: {depth}\")\n",
    "\n",
    "        if node == goal:\n",
    "            return path + [node]\n",
    "\n",
    "        if node not in visited:\n",
    "            visited.append(node)\n",
    "\n",
    "            if depth < limit:\n",
    "                for neighbor in reversed(graph[node]):\n",
    "                    stack.append((neighbor, path + [node], depth + 1))\n",
    "\n",
    "    print(f\"Goal not found within depth limit {limit}\")\n",
    "    return None\n",
    "\n",
    "\n",
    "start_node = \"A\"\n",
    "goal_node = \"F\"\n",
    "limit = 3\n",
    "\n",
    "result = dls(graph, start_node, goal_node, limit)\n",
    "\n",
    "if result:\n",
    "    print(\"Path found:\", result)\n",
    "else:\n",
    "    print(\"No path found.\")"
   ]
  }
 ],
 "metadata": {
  "kernelspec": {
   "display_name": "Python 3",
   "language": "python",
   "name": "python3"
  },
  "language_info": {
   "codemirror_mode": {
    "name": "ipython",
    "version": 3
   },
   "file_extension": ".py",
   "mimetype": "text/x-python",
   "name": "python",
   "nbconvert_exporter": "python",
   "pygments_lexer": "ipython3",
   "version": "3.12.4"
  }
 },
 "nbformat": 4,
 "nbformat_minor": 2
}
