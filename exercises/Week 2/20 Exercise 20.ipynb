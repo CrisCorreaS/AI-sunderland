{
 "cells": [
  {
   "cell_type": "markdown",
   "metadata": {},
   "source": [
    "# Exercise 20\n",
    "**Cristina Correa - 1819211867**\n",
    "\n",
    "Do a comparison of both algorithms BFS and DFS and\n",
    "find the number of nodes needed to solve the problem.\n",
    "\n",
    "```\n",
    "A ↔ B ↔ C\n",
    "↕   ↕   ↕\n",
    "D   E ↔ F\n",
    "↕   ↕\n",
    "G ↔ H\n",
    "```"
   ]
  },
  {
   "cell_type": "code",
   "execution_count": 1,
   "metadata": {},
   "outputs": [],
   "source": [
    "graph = {\n",
    "  \"A\": [\"B\", \"D\"],\n",
    "  \"B\": [\"A\", \"E\", \"C\"],\n",
    "  \"C\": [\"B\", \"F\"],\n",
    "  \"D\": [\"A\", \"G\"],\n",
    "  \"E\": [\"B\", \"F\", \"H\"],\n",
    "  \"F\": [\"E\", \"C\"],\n",
    "  \"G\": [\"D\", \"H\"],\n",
    "  \"H\": [\"G\", \"E\"]\n",
    "}"
   ]
  },
  {
   "cell_type": "code",
   "execution_count": 7,
   "metadata": {},
   "outputs": [],
   "source": [
    "start_node = \"H\"\n",
    "goal_node = \"F\""
   ]
  },
  {
   "cell_type": "code",
   "execution_count": 8,
   "metadata": {},
   "outputs": [
    {
     "name": "stdout",
     "output_type": "stream",
     "text": [
      "Current node: H, Path: ['H']\n",
      "Current node: G, Path: ['H', 'G']\n",
      "Current node: E, Path: ['H', 'E']\n",
      "Current node: D, Path: ['H', 'G', 'D']\n",
      "Current node: B, Path: ['H', 'E', 'B']\n",
      "Current node: F, Path: ['H', 'E', 'F']\n",
      "Path found: ['H', 'E', 'F']\n",
      "Number of nodes to solve the problem: 3\n"
     ]
    }
   ],
   "source": [
    "# BFS\n",
    "\n",
    "from collections import deque\n",
    "\n",
    "\n",
    "def bfs(graph, start, goal):\n",
    "    visited = set()\n",
    "    queue = deque([(start, [])])\n",
    "\n",
    "    while queue:\n",
    "        node, path = queue.popleft()\n",
    "        print(f\"Current node: {node}, Path: {path + [node]}\")\n",
    "\n",
    "        if node == goal:\n",
    "            return path + [node]\n",
    "\n",
    "        if node not in visited:\n",
    "            visited.add(node)\n",
    "\n",
    "            for neighbor in graph[node]:\n",
    "                if neighbor not in visited:\n",
    "                    queue.append((neighbor, path + [node]))\n",
    "\n",
    "    print(\"Goal not found\")\n",
    "    return None\n",
    "\n",
    "result_bfs = bfs(graph, start_node, goal_node)\n",
    "\n",
    "if result_bfs:\n",
    "    print(f\"Path found: {result_bfs}\")\n",
    "    print(f\"Number of nodes to solve the problem: {len(result_bfs)}\")\n",
    "else:\n",
    "    print(\"No path found.\")"
   ]
  },
  {
   "cell_type": "code",
   "execution_count": 10,
   "metadata": {},
   "outputs": [
    {
     "name": "stdout",
     "output_type": "stream",
     "text": [
      "Current node: H, Path: ['H'], Depth: 0\n",
      "Current node: G, Path: ['H', 'G'], Depth: 1\n",
      "Current node: D, Path: ['H', 'G', 'D'], Depth: 2\n",
      "Current node: H, Path: ['H', 'G', 'H'], Depth: 2\n",
      "Current node: E, Path: ['H', 'E'], Depth: 1\n",
      "Current node: B, Path: ['H', 'E', 'B'], Depth: 2\n",
      "Current node: F, Path: ['H', 'E', 'F'], Depth: 2\n",
      "Path found: ['H', 'E', 'F']\n",
      "Number of nodes to solve the problem: 3\n"
     ]
    }
   ],
   "source": [
    "def dls(graph, start, goal, limit):\n",
    "    visited = []\n",
    "    stack = [(start, [], 0)]\n",
    "\n",
    "    while stack:\n",
    "        node, path, depth = stack.pop()\n",
    "        print(f\"Current node: {node}, Path: {path + [node]}, Depth: {depth}\")\n",
    "\n",
    "        if node == goal:\n",
    "            return path + [node]\n",
    "\n",
    "        if node not in visited:\n",
    "            visited.append(node)\n",
    "\n",
    "            if depth < limit:\n",
    "                for neighbor in reversed(graph[node]):\n",
    "                    stack.append((neighbor, path + [node], depth + 1))\n",
    "\n",
    "    print(f\"Goal not found within depth limit {limit}\")\n",
    "    return None\n",
    "\n",
    "\n",
    "limit = 2\n",
    "\n",
    "result_dls = dls(graph, start_node, goal_node, limit)\n",
    "\n",
    "if result_dls:\n",
    "    print(f\"Path found: {result_dls}\")\n",
    "    print(f\"Number of nodes to solve the problem: {len(result_dls)}\")\n",
    "else:\n",
    "    print(\"No path found.\")"
   ]
  }
 ],
 "metadata": {
  "kernelspec": {
   "display_name": "Python 3",
   "language": "python",
   "name": "python3"
  },
  "language_info": {
   "codemirror_mode": {
    "name": "ipython",
    "version": 3
   },
   "file_extension": ".py",
   "mimetype": "text/x-python",
   "name": "python",
   "nbconvert_exporter": "python",
   "pygments_lexer": "ipython3",
   "version": "3.12.4"
  }
 },
 "nbformat": 4,
 "nbformat_minor": 2
}
