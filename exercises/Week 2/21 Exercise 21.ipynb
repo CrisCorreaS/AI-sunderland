{
 "cells": [
  {
   "cell_type": "markdown",
   "metadata": {},
   "source": [
    "# Exercise 21\n",
    "**Cristina Correa - 1819211867**\n",
    "\n",
    "Try different starting and ending points then calculate the\n",
    "number of steps needed to solve the problem.\n",
    "\n",
    "```\n",
    "A ↔ B ↔ C\n",
    "↕   ↕   ↕\n",
    "D   E ↔ F\n",
    "↕   ↕\n",
    "G ↔ H\n",
    "```"
   ]
  },
  {
   "cell_type": "code",
   "execution_count": 2,
   "metadata": {},
   "outputs": [],
   "source": [
    "graph = {\n",
    "  \"A\": [\"B\", \"D\"],\n",
    "  \"B\": [\"A\", \"E\", \"C\"],\n",
    "  \"C\": [\"B\", \"F\"],\n",
    "  \"D\": [\"A\", \"G\"],\n",
    "  \"E\": [\"B\", \"F\", \"H\"],\n",
    "  \"F\": [\"E\", \"C\"],\n",
    "  \"G\": [\"D\", \"H\"],\n",
    "  \"H\": [\"G\", \"E\"]\n",
    "}"
   ]
  },
  {
   "cell_type": "code",
   "execution_count": 3,
   "metadata": {},
   "outputs": [],
   "source": [
    "from collections import deque\n",
    "\n",
    "\n",
    "def bfs(graph, start, goal):\n",
    "    visited = set()\n",
    "    queue = deque([(start, [])])\n",
    "\n",
    "    while queue:\n",
    "        node, path = queue.popleft()\n",
    "        print(f\"Current node: {node}, Path: {path + [node]}\")\n",
    "\n",
    "        if node == goal:\n",
    "            return path + [node]\n",
    "\n",
    "        if node not in visited:\n",
    "            visited.add(node)\n",
    "\n",
    "            for neighbor in graph[node]:\n",
    "                if neighbor not in visited:\n",
    "                    queue.append((neighbor, path + [node]))\n",
    "\n",
    "    print(\"Goal not found\")\n",
    "    return None"
   ]
  },
  {
   "cell_type": "code",
   "execution_count": 4,
   "metadata": {},
   "outputs": [
    {
     "name": "stdout",
     "output_type": "stream",
     "text": [
      "Current node: A, Path: ['A']\n",
      "Current node: B, Path: ['A', 'B']\n",
      "Current node: D, Path: ['A', 'D']\n",
      "Current node: E, Path: ['A', 'B', 'E']\n",
      "Current node: C, Path: ['A', 'B', 'C']\n",
      "Current node: G, Path: ['A', 'D', 'G']\n",
      "Current node: F, Path: ['A', 'B', 'E', 'F']\n",
      "Current node: H, Path: ['A', 'B', 'E', 'H']\n",
      "Current node: F, Path: ['A', 'B', 'C', 'F']\n",
      "Current node: H, Path: ['A', 'D', 'G', 'H']\n",
      "Goal not found\n",
      "No path found.\n"
     ]
    }
   ],
   "source": [
    "result_bfs = bfs(graph, \"A\", \"X\")\n",
    "\n",
    "if result_bfs:\n",
    "    print(f\"Path found: {result_bfs}\")\n",
    "    print(f\"Number of nodes to solve the problem: {len(result_bfs)}\")\n",
    "else:\n",
    "    print(\"No path found.\")"
   ]
  },
  {
   "cell_type": "code",
   "execution_count": 5,
   "metadata": {},
   "outputs": [
    {
     "name": "stdout",
     "output_type": "stream",
     "text": [
      "Current node: B, Path: ['B']\n",
      "Current node: A, Path: ['B', 'A']\n",
      "Current node: E, Path: ['B', 'E']\n",
      "Current node: C, Path: ['B', 'C']\n",
      "Current node: D, Path: ['B', 'A', 'D']\n",
      "Current node: F, Path: ['B', 'E', 'F']\n",
      "Current node: H, Path: ['B', 'E', 'H']\n",
      "Current node: F, Path: ['B', 'C', 'F']\n",
      "Current node: G, Path: ['B', 'A', 'D', 'G']\n",
      "Path found: ['B', 'A', 'D', 'G']\n",
      "Number of nodes to solve the problem: 4\n"
     ]
    }
   ],
   "source": [
    "result_bfs = bfs(graph, \"B\", \"G\")\n",
    "\n",
    "if result_bfs:\n",
    "    print(f\"Path found: {result_bfs}\")\n",
    "    print(f\"Number of nodes to solve the problem: {len(result_bfs)}\")\n",
    "else:\n",
    "    print(\"No path found.\")"
   ]
  },
  {
   "cell_type": "code",
   "execution_count": 6,
   "metadata": {},
   "outputs": [
    {
     "name": "stdout",
     "output_type": "stream",
     "text": [
      "Current node: E, Path: ['E']\n",
      "Current node: B, Path: ['E', 'B']\n",
      "Current node: F, Path: ['E', 'F']\n",
      "Current node: H, Path: ['E', 'H']\n",
      "Current node: A, Path: ['E', 'B', 'A']\n",
      "Current node: C, Path: ['E', 'B', 'C']\n",
      "Current node: C, Path: ['E', 'F', 'C']\n",
      "Current node: G, Path: ['E', 'H', 'G']\n",
      "Current node: D, Path: ['E', 'B', 'A', 'D']\n",
      "Path found: ['E', 'B', 'A', 'D']\n",
      "Number of nodes to solve the problem: 4\n"
     ]
    }
   ],
   "source": [
    "result_bfs = bfs(graph, \"E\", \"D\")\n",
    "\n",
    "if result_bfs:\n",
    "    print(f\"Path found: {result_bfs}\")\n",
    "    print(f\"Number of nodes to solve the problem: {len(result_bfs)}\")\n",
    "else:\n",
    "    print(\"No path found.\")"
   ]
  },
  {
   "cell_type": "code",
   "execution_count": 7,
   "metadata": {},
   "outputs": [
    {
     "name": "stdout",
     "output_type": "stream",
     "text": [
      "Current node: D, Path: ['D']\n",
      "Current node: A, Path: ['D', 'A']\n",
      "Path found: ['D', 'A']\n",
      "Number of nodes to solve the problem: 2\n"
     ]
    }
   ],
   "source": [
    "result_bfs = bfs(graph, \"D\", \"A\")\n",
    "\n",
    "if result_bfs:\n",
    "    print(f\"Path found: {result_bfs}\")\n",
    "    print(f\"Number of nodes to solve the problem: {len(result_bfs)}\")\n",
    "else:\n",
    "    print(\"No path found.\")"
   ]
  }
 ],
 "metadata": {
  "kernelspec": {
   "display_name": "Python 3",
   "language": "python",
   "name": "python3"
  },
  "language_info": {
   "codemirror_mode": {
    "name": "ipython",
    "version": 3
   },
   "file_extension": ".py",
   "mimetype": "text/x-python",
   "name": "python",
   "nbconvert_exporter": "python",
   "pygments_lexer": "ipython3",
   "version": "3.12.4"
  }
 },
 "nbformat": 4,
 "nbformat_minor": 2
}
