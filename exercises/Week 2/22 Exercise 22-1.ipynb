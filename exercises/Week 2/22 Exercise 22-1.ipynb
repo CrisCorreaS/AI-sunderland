{
 "cells": [
  {
   "cell_type": "markdown",
   "metadata": {},
   "source": [
    "# Exercise 22.1\n",
    "**Cristina Correa - 1819211867**\n",
    "\n",
    "Change the maze map to make represent this maze:\n",
    "\n",
    "```\n",
    "⭕ — ⭕      A — F\n",
    " | \\  |       | \\ | \n",
    "⭕  `⭕      B  `S\n",
    " |    |       |   |\n",
    "⭕ — ⭕      C — D\n",
    "```"
   ]
  },
  {
   "cell_type": "code",
   "execution_count": 2,
   "metadata": {},
   "outputs": [],
   "source": [
    "graph = {\n",
    "  \"A\": [\"F\", \"S\", \"B\"],\n",
    "  \"B\": [\"A\", \"C\"],\n",
    "  \"C\": [\"B\", \"D\"],\n",
    "  \"D\": [\"C\", \"S\"],\n",
    "  \"S\": [\"D\", \"A\", \"F\"],\n",
    "  \"F\": [\"A\", \"S\"]\n",
    "}"
   ]
  },
  {
   "cell_type": "code",
   "execution_count": 3,
   "metadata": {},
   "outputs": [
    {
     "name": "stdout",
     "output_type": "stream",
     "text": [
      "Current node: S, Path: ['S']\n",
      "Current node: D, Path: ['S', 'D']\n",
      "Current node: A, Path: ['S', 'A']\n",
      "Path found: ['S', 'A']\n"
     ]
    }
   ],
   "source": [
    "# BFS to solve Sunderland - NewCastle (\"S\"-\"A\")\n",
    "\n",
    "from collections import deque\n",
    "\n",
    "def bfs(graph, start, goal):\n",
    "    visited = set()\n",
    "    queue = deque([(start, [])])\n",
    "\n",
    "    while queue:\n",
    "        node, path = queue.popleft()\n",
    "        print(f\"Current node: {node}, Path: {path + [node]}\")\n",
    "\n",
    "        if node == goal:\n",
    "            return path + [node]\n",
    "\n",
    "        if node not in visited:\n",
    "            visited.add(node)\n",
    "\n",
    "            for neighbor in graph[node]:\n",
    "                if neighbor not in visited:\n",
    "                    queue.append((neighbor, path + [node]))\n",
    "\n",
    "    print(\"Goal not found\")\n",
    "    return None\n",
    "\n",
    "\n",
    "start_node_bfs = \"S\"\n",
    "goal_node_bfs = \"A\"\n",
    "result_bfs = bfs(graph, start_node_bfs, goal_node_bfs)\n",
    "\n",
    "if result_bfs:\n",
    "    print(\"Path found:\", result_bfs)\n",
    "else:\n",
    "    print(\"No path found.\")"
   ]
  },
  {
   "cell_type": "code",
   "execution_count": 5,
   "metadata": {},
   "outputs": [
    {
     "name": "stdout",
     "output_type": "stream",
     "text": [
      "Current node: S, Path: ['S']\n",
      "Current node: D, Path: ['S', 'D']\n",
      "Current node: C, Path: ['S', 'D', 'C']\n",
      "Path found: ['S', 'D', 'C']\n"
     ]
    }
   ],
   "source": [
    "# DFS to solve Sunderland - Durham (\"S\" - \"C\")\n",
    "\n",
    "def dfs(graph, start, goal):\n",
    "    visited = []\n",
    "    stack = [(start, [])]\n",
    "\n",
    "    while stack:\n",
    "        node, path = stack.pop()\n",
    "        print(f\"Current node: {node}, Path: {path + [node]}\")\n",
    "\n",
    "        if node == goal:\n",
    "            return path + [node]\n",
    "\n",
    "        if node not in visited:\n",
    "            visited.append(node)\n",
    "\n",
    "            for neighbor in reversed(graph[node]):\n",
    "                stack.append((neighbor, path + [node]))\n",
    "\n",
    "    print(\"Goal not found\")\n",
    "    return None\n",
    "\n",
    "\n",
    "start_node_dfs = \"S\"\n",
    "goal_node_dfs = \"C\"\n",
    "result_dfs = dfs(graph, start_node_dfs, goal_node_dfs)\n",
    "\n",
    "if result_dfs:\n",
    "    print(\"Path found:\", result_dfs)\n",
    "else:\n",
    "    print(\"No path found.\")"
   ]
  },
  {
   "cell_type": "code",
   "execution_count": 6,
   "metadata": {},
   "outputs": [
    {
     "name": "stdout",
     "output_type": "stream",
     "text": [
      "Current node: S, Path: ['S'], Depth: 0\n",
      "Current node: D, Path: ['S', 'D'], Depth: 1\n",
      "Path found: ['S', 'D']\n"
     ]
    }
   ],
   "source": [
    "# DLS to solve Sunderland - Seaham (\"S\" to \"D\")\n",
    "\n",
    "def dls(graph, start, goal, limit):\n",
    "    visited = []\n",
    "    stack = [(start, [], 0)]\n",
    "\n",
    "    while stack:\n",
    "        node, path, depth = stack.pop()\n",
    "        print(f\"Current node: {node}, Path: {path + [node]}, Depth: {depth}\")\n",
    "\n",
    "        if node == goal:\n",
    "            return path + [node]\n",
    "\n",
    "        if node not in visited:\n",
    "            visited.append(node)\n",
    "\n",
    "            if depth < limit:\n",
    "                for neighbor in reversed(graph[node]):\n",
    "                    stack.append((neighbor, path + [node], depth + 1))\n",
    "\n",
    "    print(f\"Goal not found within depth limit {limit}\")\n",
    "    return None\n",
    "\n",
    "\n",
    "start_node_dls = \"S\"\n",
    "goal_node_dls = \"D\"\n",
    "limit = 1\n",
    "\n",
    "result_dls = dls(graph, start_node_dls, goal_node_dls, limit)\n",
    "\n",
    "if result_dls:\n",
    "    print(\"Path found:\", result_dls)\n",
    "else:\n",
    "    print(\"No path found.\")"
   ]
  }
 ],
 "metadata": {
  "kernelspec": {
   "display_name": "Python 3",
   "language": "python",
   "name": "python3"
  },
  "language_info": {
   "codemirror_mode": {
    "name": "ipython",
    "version": 3
   },
   "file_extension": ".py",
   "mimetype": "text/x-python",
   "name": "python",
   "nbconvert_exporter": "python",
   "pygments_lexer": "ipython3",
   "version": "3.12.4"
  }
 },
 "nbformat": 4,
 "nbformat_minor": 2
}
