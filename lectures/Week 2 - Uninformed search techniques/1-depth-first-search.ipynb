{
 "cells": [
  {
   "cell_type": "markdown",
   "metadata": {},
   "source": [
    "# Depth First Search"
   ]
  },
  {
   "cell_type": "code",
   "execution_count": 2,
   "metadata": {},
   "outputs": [
    {
     "name": "stdout",
     "output_type": "stream",
     "text": [
      "A B C D E F G H I "
     ]
    }
   ],
   "source": [
    "# INNER LOOP\n",
    "\n",
    "graph1 = {\n",
    "  'A' : ['B','G'],\n",
    "  'B' : ['C', 'D', 'E'],\n",
    "  'C' : [],\n",
    "  'D' : [],\n",
    "  'E' : ['F'],\n",
    "  'F' : [],\n",
    "  'G' : ['H'],\n",
    "  'H' : ['I'],\n",
    "  'I' : [],\n",
    "}\n",
    "\n",
    "\n",
    "def dfs1(graph, node):\n",
    "    visited = set() # Colección de elementos no duplicados. Aquí se guardan los nodos visitados (no permite duplicados y no tiene un orden definido -> no índices)\n",
    "    stack = [] # Lista que actúa como la pila de exploración, aquí añadimos y quitamos nodos (permite duplicados y tiene índice)\n",
    "    # Ejemplo de uso: ['A'] --> [] -> ['B', 'G'] -> ['G'] -> ['C', 'D', 'E', 'G'] -> ['D', 'E', 'G'] -> ['E', 'G'] -> ['G'] -> ['F' ,'G'] -> ['G'] --> [] -> ['H'] --> [] -> ['I'] ->  []\n",
    "\n",
    "    visited.add(node) # Con add() añadimos un elemento al conjunto de nodos visitados\n",
    "    stack.append(node) # Con append() añadimos un nodo a la lista de exploración\n",
    "\n",
    "    while stack: # Mientras que haya nodos en el stack, se va a ejecutar (las flechas dobles son estados transitorios que no recoge como que en el stack no haya nodos)\n",
    "        current_node = stack.pop() # Al poner \"current_node\", lo igualamos al último nodo del stack\n",
    "        print(current_node, end=\" \")  # Imprimimos el nodo actual\n",
    "\n",
    "        for node in reversed(graph[current_node]): # Aquí se coge la gráfica del elemento y se invierte. Ej: current_node = 'A'; graph[current_node] = ['B', 'G']; reversed(graph[current_node]) = ['G', 'B']; node = 'B'\n",
    "            if node not in visited:\n",
    "                visited.add(node)\n",
    "                stack.append(node)\n",
    "\n",
    "\n",
    "dfs1(graph1, 'A')"
   ]
  },
  {
   "cell_type": "code",
   "execution_count": 4,
   "metadata": {},
   "outputs": [
    {
     "name": "stdout",
     "output_type": "stream",
     "text": [
      "1 2 3 4 5 6 7 8 9 "
     ]
    }
   ],
   "source": [
    "# RECURSIVO\n",
    "\n",
    "graph2 = {\n",
    "    \"1\": [\"2\", \"8\"],\n",
    "    \"2\": [\"3\", \"4\"],\n",
    "    \"3\": [],\n",
    "    \"4\": [\"5\"],\n",
    "    \"5\": [\"6\", \"7\"],\n",
    "    \"6\": [],\n",
    "    \"7\": [],\n",
    "    \"8\": [],\n",
    "    \"8\": [\"9\"],\n",
    "    \"9\": [],\n",
    "}\n",
    "\n",
    "visited = set()\n",
    "\n",
    "def dfs2(visited, graph, node):  \n",
    "    if node not in visited:\n",
    "        print(node, end = ' ')\n",
    "        visited.add(node)\n",
    "        \n",
    "        for children in graph[node]:\n",
    "            dfs2(visited, graph, children)\n",
    "\n",
    "\n",
    "dfs2(visited, graph2, \"1\")"
   ]
  },
  {
   "cell_type": "code",
   "execution_count": 86,
   "metadata": {},
   "outputs": [
    {
     "name": "stdout",
     "output_type": "stream",
     "text": [
      "B - C - D - E - F - - - >> No se encontró el nodo A\n"
     ]
    }
   ],
   "source": [
    "# BÚSQUEDA DE NODO\n",
    "\n",
    "graph3 = {\n",
    "    \"A\": [\"B\", \"G\"],\n",
    "    \"B\": [\"C\", \"D\", \"E\"],\n",
    "    \"C\": [],\n",
    "    \"D\": [],\n",
    "    \"E\": [\"F\"],\n",
    "    \"F\": [],\n",
    "    \"G\": [\"H\"],\n",
    "    \"H\": [\"I\"],\n",
    "    \"I\": [],\n",
    "}\n",
    "\n",
    "\n",
    "def dfs3(graph, start_node, goal_node):\n",
    "    if goal_node != start_node:\n",
    "        visited = set()\n",
    "        stack = []\n",
    "\n",
    "        visited.add(start_node)\n",
    "        stack.append(start_node)\n",
    "\n",
    "        while stack:\n",
    "            current_node = stack.pop()\n",
    "            print(current_node + \" -\", end=\" \")\n",
    "\n",
    "            for node in reversed(graph[current_node]):\n",
    "                if node not in visited:\n",
    "                    visited.add(node)\n",
    "                    stack.append(node)\n",
    "\n",
    "                    if goal_node == node:\n",
    "                        print(node, end=\" \")\n",
    "                        return True\n",
    "    else:\n",
    "        print(start_node, end=\" \")\n",
    "        return True\n",
    "\n",
    "\n",
    "start_node = \"B\"\n",
    "goal_node = \"A\"\n",
    "\n",
    "result = dfs3(graph3, start_node, goal_node)\n",
    "\n",
    "if result:\n",
    "    print(f\">> Se encontró el nodo {goal_node}\")\n",
    "else:\n",
    "    print(f\"- - >> No se encontró el nodo {goal_node}\")"
   ]
  },
  {
   "cell_type": "code",
   "execution_count": 91,
   "metadata": {},
   "outputs": [
    {
     "name": "stdout",
     "output_type": "stream",
     "text": [
      "A B C D E F G H I "
     ]
    }
   ],
   "source": [
    "# Pruebas\n",
    "\n",
    "graph4 = {\n",
    "    \"A\": [\"B\", \"G\"],\n",
    "    \"B\": [\"C\", \"D\", \"E\"],\n",
    "    \"C\": [],\n",
    "    \"D\": [],\n",
    "    \"E\": [\"F\"],\n",
    "    \"F\": [],\n",
    "    \"G\": [\"H\"],\n",
    "    \"H\": [\"I\"],\n",
    "    \"I\": [],\n",
    "}\n",
    "\n",
    "def dfs4(graph, start_node):\n",
    "  visited = set()\n",
    "  stack = []\n",
    "  \n",
    "  visited.add(start_node)\n",
    "  stack.append(start_node)\n",
    "  \n",
    "  while stack:\n",
    "    current_node = stack.pop()\n",
    "    \n",
    "    print(current_node, end = \" \")\n",
    "    \n",
    "    for node in reversed(graph[current_node]):\n",
    "      if node not in visited:\n",
    "        visited.add(node)\n",
    "        stack.append(node)\n",
    "\n",
    "\n",
    "start_node = \"A\"\n",
    "\n",
    "result = dfs4(graph4, start_node)"
   ]
  }
 ],
 "metadata": {
  "kernelspec": {
   "display_name": "Python 3",
   "language": "python",
   "name": "python3"
  },
  "language_info": {
   "codemirror_mode": {
    "name": "ipython",
    "version": 3
   },
   "file_extension": ".py",
   "mimetype": "text/x-python",
   "name": "python",
   "nbconvert_exporter": "python",
   "pygments_lexer": "ipython3",
   "version": "3.12.4"
  }
 },
 "nbformat": 4,
 "nbformat_minor": 2
}
