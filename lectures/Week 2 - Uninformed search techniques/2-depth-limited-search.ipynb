{
 "cells": [
  {
   "cell_type": "markdown",
   "metadata": {},
   "source": [
    "# Depth Limited Search\n",
    "\n",
    "```\n",
    "      A\n",
    "     / \\\n",
    "    B   G\n",
    "  / | \\   \\\n",
    " C  D  E   H\n",
    "       |    \\\n",
    "       F     I\n",
    "```"
   ]
  },
  {
   "cell_type": "code",
   "execution_count": 5,
   "metadata": {},
   "outputs": [
    {
     "name": "stdout",
     "output_type": "stream",
     "text": [
      "A B C D E G H "
     ]
    }
   ],
   "source": [
    "# INNER LOOP\n",
    "\n",
    "graph1 = {\n",
    "    \"A\": [\"B\", \"G\"],\n",
    "    \"B\": [\"C\", \"D\", \"E\"],\n",
    "    \"C\": [],\n",
    "    \"D\": [],\n",
    "    \"E\": [\"F\"],\n",
    "    \"F\": [],\n",
    "    \"G\": [\"H\"],\n",
    "    \"H\": [\"I\"],\n",
    "    \"I\": [],\n",
    "}\n",
    "\n",
    "def dls1(graph, start_node, limit):\n",
    "  visited = set()\n",
    "  stack = [(start_node, 0)] # pila que por un lado guarda el nodo y otro la profundidad\n",
    "  \n",
    "  visited.add(start_node)\n",
    "  # No le añadimos aquí el start_node al nodo de \"stack\"\n",
    "  \n",
    "  while stack:\n",
    "    current_node, depth = stack.pop() # Obtenemos también la profundidad\n",
    "    \n",
    "    print(current_node, end = \" \")\n",
    "    \n",
    "    if depth < limit:  # Solo continuamos si la profundidad actual es menor que el límite\n",
    "      for node in reversed(graph[current_node]):\n",
    "        if node not in visited:\n",
    "          visited.add(node)\n",
    "          stack.append((node, depth + 1)) # Aquí le añadimos un poco más de profundidad\n",
    "\n",
    "\n",
    "start_node = \"A\"\n",
    "limit = 2\n",
    "\n",
    "result = dls1(graph1, start_node, limit)"
   ]
  },
  {
   "cell_type": "code",
   "execution_count": 9,
   "metadata": {},
   "outputs": [
    {
     "name": "stdout",
     "output_type": "stream",
     "text": [
      "1 2 3 4 8 9 "
     ]
    }
   ],
   "source": [
    "# RECURSIVO\n",
    "\n",
    "\n",
    "graph2 = {\n",
    "  \"1\": [\"2\", \"8\"], \n",
    "  \"2\": [\"3\", \"4\"], \n",
    "  \"3\": [], \n",
    "  \"4\": [\"5\"], \n",
    "  \"5\": [\"6\", \"7\"], \n",
    "  \"6\": [],\n",
    "  \"7\": [],\n",
    "  \"8\": [\"9\"],\n",
    "  \"9\": []\n",
    "  }\n",
    "\n",
    "visited = set()\n",
    "\n",
    "\n",
    "def dfs2(visited, graph, node, limite, depth):\n",
    "    if depth > limite:  # Si se alcanza el límite de profundidad, acaba la función\n",
    "        return\n",
    "      \n",
    "    if node not in visited:\n",
    "        print(node, end=\" \")\n",
    "        visited.add(node)\n",
    "\n",
    "        for children in graph[node]:\n",
    "            dfs2(visited, graph, children, limite, depth + 1)\n",
    "\n",
    "\n",
    "start_node = \"1\"\n",
    "limite = 2\n",
    "\n",
    "dfs2(visited, graph2, start_node, limite, 0) # Añadimos el límite y la profundidad inicial (0)"
   ]
  },
  {
   "cell_type": "code",
   "execution_count": 18,
   "metadata": {},
   "outputs": [
    {
     "name": "stdout",
     "output_type": "stream",
     "text": [
      "A - B - C - D - E - G - H - - - >> No se encontró el nodo F\n"
     ]
    }
   ],
   "source": [
    "# BÚSQUEDA DE NODO\n",
    "\n",
    "graph3 = {\n",
    "    \"A\": [\"B\", \"G\"],\n",
    "    \"B\": [\"C\", \"D\", \"E\"],\n",
    "    \"C\": [],\n",
    "    \"D\": [],\n",
    "    \"E\": [\"F\"],\n",
    "    \"F\": [],\n",
    "    \"G\": [\"H\"],\n",
    "    \"H\": [\"I\"],\n",
    "    \"I\": [],\n",
    "}\n",
    "\n",
    "\n",
    "def dfs3(graph, start_node, goal_node, limite):\n",
    "    if goal_node != start_node:\n",
    "        visited = set()\n",
    "        stack = [(start_node, 0)]  # Volvemos a añadir el valor de la profundidad inicial aquí\n",
    "\n",
    "        visited.add(start_node)\n",
    "\n",
    "        while stack:\n",
    "            current_node, depth = stack.pop()  # Volvemos a asignar la profundidad\n",
    "            print(current_node + \" -\", end=\" \")\n",
    "\n",
    "            if depth < limit: # Añadimos esto para que siempre se cumpla que no sea más profundo\n",
    "                for node in reversed(graph[current_node]):\n",
    "                    if node not in visited:\n",
    "                        visited.add(node)\n",
    "                        stack.append((node, depth + 1)) # se le añade la profundidad, cuidado con los paréntesis\n",
    "\n",
    "                        if goal_node == node:\n",
    "                            print(node, end=\" \")\n",
    "                            return True\n",
    "    else:\n",
    "        print(start_node, end=\" \")\n",
    "        return True\n",
    "\n",
    "\n",
    "start_node = \"A\"\n",
    "goal_node = \"F\"\n",
    "limite = 2\n",
    "\n",
    "result = dfs3(graph3, start_node, goal_node, limite)\n",
    "\n",
    "if result:\n",
    "    print(f\">> Se encontró el nodo {goal_node}\")\n",
    "else:\n",
    "    print(f\"- - >> No se encontró el nodo {goal_node}\")"
   ]
  }
 ],
 "metadata": {
  "kernelspec": {
   "display_name": "Python 3",
   "language": "python",
   "name": "python3"
  },
  "language_info": {
   "codemirror_mode": {
    "name": "ipython",
    "version": 3
   },
   "file_extension": ".py",
   "mimetype": "text/x-python",
   "name": "python",
   "nbconvert_exporter": "python",
   "pygments_lexer": "ipython3",
   "version": "3.12.4"
  }
 },
 "nbformat": 4,
 "nbformat_minor": 2
}
